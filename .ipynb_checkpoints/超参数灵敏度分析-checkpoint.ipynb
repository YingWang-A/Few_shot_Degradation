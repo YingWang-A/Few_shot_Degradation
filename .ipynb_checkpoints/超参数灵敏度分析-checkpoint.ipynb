{
 "cells": [
  {
   "cell_type": "code",
   "execution_count": 1,
   "id": "f91422ad",
   "metadata": {},
   "outputs": [],
   "source": [
    "%matplotlib inline\n",
    "import math\n",
    "import random\n",
    "import matplotlib.pyplot as plt\n",
    "import numpy as np\n",
    "import pandas as pd\n",
    "import seaborn as sns\n",
    "import os\n",
    "os.environ[\"KMP_DUPLICATE_LIB_OK\"]  =  \"TRUE\""
   ]
  },
  {
   "cell_type": "code",
   "execution_count": 4,
   "id": "abcb7b4c",
   "metadata": {},
   "outputs": [],
   "source": [
    "x1 = ['5','10','15','20','25']\n",
    "y1 = [16.66,16.04,20.07,26.14,68.93]\n",
    "\n",
    "x2 = ['1e-5','1e-4','1e-3','1e-2','1e-1']\n",
    "y2 = [20.33,15.69,15.22,16.04,15.71]\n",
    "\n",
    "x3 = ['25','50','100','200','400']\n",
    "y3 = [15.32,15.23,15.14,15.11,15.08]\n",
    "z3 = [0.095,0.191,0.368,0.739,1.850]\n",
    "\n",
    "x4 = ['20','40','60','80','100']\n",
    "y4 = [15.10,15.12,15.11,15.14,15.13,15.17]\n",
    "z4 = [0.088,0.201,0.316,0.576,0.817]"
   ]
  }
 ],
 "metadata": {
  "kernelspec": {
   "display_name": "Python 3 (ipykernel)",
   "language": "python",
   "name": "python3"
  },
  "language_info": {
   "codemirror_mode": {
    "name": "ipython",
    "version": 3
   },
   "file_extension": ".py",
   "mimetype": "text/x-python",
   "name": "python",
   "nbconvert_exporter": "python",
   "pygments_lexer": "ipython3",
   "version": "3.9.12"
  }
 },
 "nbformat": 4,
 "nbformat_minor": 5
}
