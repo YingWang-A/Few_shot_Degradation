{
 "cells": [
  {
   "cell_type": "code",
   "execution_count": 1,
   "id": "34ddde09",
   "metadata": {},
   "outputs": [],
   "source": [
    "%matplotlib inline\n",
    "import math\n",
    "import torch\n",
    "from torch import nn\n",
    "from torch.nn import functional as F\n",
    "from torch.autograd import Variable\n",
    "from torch.distributions import Normal\n",
    "from scipy.linalg import block_diag\n",
    "from numpy.linalg import inv\n",
    "import torch.optim as optim\n",
    "import matplotlib.pyplot as plt\n",
    "import numpy as np\n",
    "import pandas as pd\n",
    "import seaborn as sns\n",
    "from scipy import stats\n",
    "from scipy.spatial.distance import pdist, squareform\n",
    "import numpy.matlib as nm\n",
    "import os\n",
    "os.environ[\"KMP_DUPLICATE_LIB_OK\"]  =  \"TRUE\""
   ]
  },
  {
   "cell_type": "code",
   "execution_count": 2,
   "id": "2776aedf",
   "metadata": {},
   "outputs": [],
   "source": [
    "def get_lstm_params(num_inputs, num_hiddens, num_outputs, num_units):\n",
    "    \n",
    "    def normal(shape):\n",
    "        return Variable(nn.Parameter(torch.randn(size = shape))) * 0.01\n",
    "    def zero(shape):\n",
    "        return Variable(nn.Parameter(torch.zeros(shape)))\n",
    "    def three(num_inputs, num_hiddens, num_outputs):\n",
    "        return (normal((num_inputs, num_hiddens)), normal((num_hiddens, num_hiddens)), zero(num_hiddens))\n",
    "    \n",
    "    W_xi, W_hi, b_i = three(num_inputs, num_hiddens, num_outputs) # 输入门参数\n",
    "    W_xf, W_hf, b_f = three(num_inputs, num_hiddens, num_outputs) # 遗忘门参数\n",
    "    W_xo, W_ho, b_o = three(num_inputs, num_hiddens, num_outputs) # 输出门参数\n",
    "    W_xc, W_hc, b_c = three(num_inputs, num_hiddens, num_outputs) # 候选记忆门参数\n",
    "    \n",
    "    # 输出层参数\n",
    "    W_hq = normal((num_units, num_hiddens, num_outputs))\n",
    "    \n",
    "    params = [W_xi, W_hi, b_i, W_xf, W_hf, b_f, W_xo, W_ho, b_o, W_xc, W_hc, b_c, W_hq]\n",
    "    for param in params:\n",
    "        param.requires_grad_(True)\n",
    "    \n",
    "    return params "
   ]
  },
  {
   "cell_type": "code",
   "execution_count": 3,
   "id": "a4734078",
   "metadata": {},
   "outputs": [],
   "source": [
    "def init_lstm_state(batch_size, num_hiddens):\n",
    "    return (torch.ones(batch_size, num_hiddens)*(-20.0), \n",
    "            torch.ones(batch_size, num_hiddens)*(-20.0))"
   ]
  },
  {
   "cell_type": "code",
   "execution_count": 4,
   "id": "a5885c33",
   "metadata": {},
   "outputs": [],
   "source": [
    "def lstm(inputs, state, unit_index, params):\n",
    "    [W_xi, W_hi, b_i, W_xf, W_hf, b_f, W_xo, W_ho, b_o, W_xc, W_hc, b_c] = params[:12]\n",
    "    W_hq = params[12][unit_index]\n",
    "    (H, C) = state\n",
    "    \n",
    "    outputs = []\n",
    "    for X in inputs:\n",
    "        I = torch.sigmoid((X @ W_xi) + (H @ W_hi) + b_i)\n",
    "        F = torch.sigmoid((X @ W_xf) + (H @ W_hf) + b_f)\n",
    "        O = torch.sigmoid((X @ W_xo) + (H @ W_ho) + b_o)\n",
    "\n",
    "        C_tilda = torch.tanh((X @ W_xc) + (H @ W_hc) + b_c)\n",
    "        C = F * C + I * C_tilda \n",
    "        H = O * torch.relu(C)\n",
    "        Y = H @ W_hq\n",
    "        outputs.append(Y)\n",
    "\n",
    "    return torch.cat(outputs, dim = 0)"
   ]
  },
  {
   "cell_type": "code",
   "execution_count": 5,
   "id": "df721d76",
   "metadata": {},
   "outputs": [],
   "source": [
    "class RNNModelScratch():\n",
    "    def __init__(self, num_inputs, num_hiddens, num_outputs, \n",
    "                 num_units, get_params, init_state, forward_fn):   \n",
    "        self.num_inputs, self.num_hiddens = num_inputs, num_hiddens\n",
    "        self.num_outputs, self.num_units = num_outputs, num_units\n",
    "        self.params = get_params(num_inputs, num_hiddens, num_outputs, num_units)\n",
    "        self.init_state, self.forward_fn = init_state, forward_fn\n",
    "        \n",
    "    def __call__(self, X, state, unit_index):\n",
    "        return self.forward_fn(X, state, unit_index, self.params)\n",
    "    \n",
    "    def begin_state(self, batch_size):\n",
    "        return self.init_state(batch_size, self.num_hiddens)"
   ]
  },
  {
   "cell_type": "code",
   "execution_count": 6,
   "id": "5f98ba4b",
   "metadata": {},
   "outputs": [],
   "source": [
    "class SVGD():\n",
    "\n",
    "    def __init__(self):\n",
    "        pass\n",
    "    \n",
    "    def svgd_kernel(self, theta, h = -1):\n",
    "        sq_dist = pdist(theta)\n",
    "        pairwise_dists = squareform(sq_dist)**2  # 转化为距离矩阵\n",
    "        if h < 0: # if h < 0, using median trick\n",
    "            h = np.median(pairwise_dists)  \n",
    "            h = np.sqrt(0.5 * h / np.log(theta.shape[0]+1))\n",
    "\n",
    "        # compute the rbf kernel\n",
    "        Kxy = np.exp( -pairwise_dists / h**2 / 2)\n",
    "\n",
    "        dxkxy = -np.matmul(Kxy, theta)\n",
    "        sumkxy = np.sum(Kxy, axis=1)\n",
    "        for i in range(theta.shape[1]):\n",
    "            dxkxy[:, i] = dxkxy[:,i] + np.multiply(theta[:,i],sumkxy)\n",
    "        dxkxy = dxkxy / (h**2)\n",
    "        return (Kxy, dxkxy)\n",
    "    \n",
    " \n",
    "    def update(self, x0, historical_grad, lnprob, n_iter, stepsize, bandwidth = -1, alpha = 0.9, debug = False):\n",
    "        # Check input\n",
    "        if x0 is None or lnprob is None:\n",
    "            raise ValueError('x0 or lnprob cannot be None!')\n",
    "        \n",
    "        theta = np.copy(x0) \n",
    "        \n",
    "        # adagrad with momentum\n",
    "        fudge_factor = 1e-6\n",
    "        # historical_grad = 0\n",
    "        # for iter in range(n_iter):\n",
    "        #    if debug and (iter+1) % 1000 == 0:\n",
    "        #        print('iter ' + str(iter+1))\n",
    "            \n",
    "        lnpgrad = lnprob(theta)\n",
    "        # calculating the kernel matrix\n",
    "        kxy, dxkxy = self.svgd_kernel(theta, h = -1)  \n",
    "        grad_theta = (np.matmul(kxy, lnpgrad) + dxkxy) / x0.shape[0]  \n",
    "\n",
    "        # adagrad \n",
    "        if n_iter == 0:\n",
    "            historical_grad = historical_grad + grad_theta ** 2\n",
    "        historical_grad = alpha * historical_grad + (1 - alpha) * (grad_theta ** 2)\n",
    "        \n",
    "        adj_grad = np.divide(grad_theta, fudge_factor+np.sqrt(historical_grad))\n",
    "        # theta = theta + stepsize * adj_grad \n",
    "            \n",
    "        return adj_grad, historical_grad"
   ]
  },
  {
   "cell_type": "code",
   "execution_count": 7,
   "id": "a86e2727",
   "metadata": {},
   "outputs": [],
   "source": [
    "class MVN:\n",
    "    def __init__(self, mu, A):\n",
    "        self.mu = mu\n",
    "        self.A = A # 协方差的逆矩阵\n",
    "    \n",
    "    def dlnprob(self, theta):\n",
    "        return -1*np.matmul(theta-nm.repmat(self.mu, theta.shape[0], 1), self.A)"
   ]
  },
  {
   "cell_type": "code",
   "execution_count": 8,
   "id": "c0b31110",
   "metadata": {},
   "outputs": [],
   "source": [
    "def train(net, lr, num_epochs, inputs, targets, batch_size, model, step_size, valid_obv):\n",
    "    # train(net, lr, num_epochs, X, train_data, batch_size, model, step_size, valid_obv)\n",
    "    loss = nn.MSELoss()\n",
    "    updater = optim.Adam(net.params, lr)\n",
    "    num_unit = len(inputs)\n",
    "    \n",
    "    historical_grad = 0\n",
    "    loss_lt = np.zeros(num_epochs)\n",
    "    for epoch in range(num_epochs):\n",
    "        L = torch.zeros(num_unit)      \n",
    "        for i in range(num_unit):\n",
    "            tmp_obv = valid_obv[i]\n",
    "            state = net.begin_state(batch_size)\n",
    "            y_preb = net(inputs[i], state, i)\n",
    "            L[i] = loss(y_preb[tmp_obv], targets[i][tmp_obv])\n",
    "        \n",
    "        tmp_gamma = net.params[12].detach().permute(0,2,1).numpy().reshape(num_unit, -1)\n",
    "        grad, historical_grad = SVGD().update(tmp_gamma, historical_grad, model.dlnprob, epoch, step_size)\n",
    "        \n",
    "        loss_lt[epoch] = L.mean().item()\n",
    "        updater.zero_grad()\n",
    "        L.mean().backward()\n",
    "        updater.step()\n",
    "        \n",
    "        net.params[12].data += step_size * torch.tensor(grad.reshape(num_unit,3,num_sensors), dtype=torch.float)\n",
    "        # net.params[12] = torch.tensor(net.params[12].detach().numpy(), dtype=torch.float, requires_grad=True)\n",
    "        \n",
    "        if epoch % 10 == 0:\n",
    "            print('epoch:{}/{}'.format(epoch+1, num_epochs))\n",
    "            print('Loss:', L.mean().item())\n",
    "\n",
    "    print('finished training!')\n",
    "\n",
    "    return loss_lt"
   ]
  },
  {
   "cell_type": "code",
   "execution_count": 9,
   "id": "621b6634",
   "metadata": {},
   "outputs": [],
   "source": [
    "# A = np.diag(np.ones(18))\n",
    "# mu = np.zeros(18)\n",
    "\n",
    "A = np.load('cov1.npy')\n",
    "mu = np.load('mu1.npy').reshape(-1)\n",
    "\n",
    "model1 = MVN(mu, A)"
   ]
  },
  {
   "cell_type": "code",
   "execution_count": 10,
   "id": "02d2fa59",
   "metadata": {},
   "outputs": [],
   "source": [
    "#  读入训练数据\n",
    "df_train = pd.read_csv('train_data.csv')\n",
    "num_units = df_train['Unit'].max()\n",
    "num_train = 20\n",
    "num_sensors = 6\n",
    "\n",
    "np.random.seed(111)\n",
    "selected_unit = np.random.choice(num_units, num_train, replace=False)\n",
    "\n",
    "t = [torch.tensor([i/500.0]) for i in range(500)]\n",
    "T = []\n",
    "train_data = []\n",
    "lengths = []\n",
    "\n",
    "for i in selected_unit:\n",
    "    sensor_data = torch.tensor(df_train[df_train['Unit'] == i+1].iloc[:,2:].values, dtype = torch.float)  \n",
    "    T.append(t[:sensor_data.shape[0]])\n",
    "    train_data.append(sensor_data)\n",
    "    lengths.append(len(sensor_data)) "
   ]
  },
  {
   "cell_type": "code",
   "execution_count": 11,
   "id": "d53f56cd",
   "metadata": {},
   "outputs": [],
   "source": [
    "num_inputs = 1\n",
    "num_hiddens = 3\n",
    "num_outputs = 6\n",
    "net = RNNModelScratch(num_inputs, num_hiddens, num_outputs, num_train, get_lstm_params, init_lstm_state, lstm)\n",
    "net.params = torch.load('LSTM-SVGD(20)-1.pth')"
   ]
  },
  {
   "cell_type": "code",
   "execution_count": 12,
   "id": "a1eee72e",
   "metadata": {},
   "outputs": [],
   "source": [
    "def get_H(inputs, params, num_hiddens):\n",
    "    [W_xi, W_hi, b_i, W_xf, W_hf, b_f, W_xo, W_ho, b_o, W_xc, W_hc, b_c] = params[:12]\n",
    "    (H, C) = init_lstm_state(1, num_hiddens)\n",
    "    H_lt = torch.zeros((len(inputs), num_hiddens))\n",
    "    for i in range(len(inputs)):\n",
    "        X = inputs[i]\n",
    "        I = torch.sigmoid((X @ W_xi) + (H @ W_hi) + b_i)\n",
    "        F = torch.sigmoid((X @ W_xf) + (H @ W_hf) + b_f)\n",
    "        O = torch.sigmoid((X @ W_xo) + (H @ W_ho) + b_o)\n",
    "\n",
    "        C_tilda = torch.tanh((X @ W_xc) + (H @ W_hc) + b_c)\n",
    "        C = F * C + I * C_tilda \n",
    "        H = O * torch.relu(C)\n",
    "        \n",
    "        H_lt[i] = H\n",
    "    \n",
    "    return H_lt"
   ]
  },
  {
   "cell_type": "code",
   "execution_count": 13,
   "id": "d2388d06",
   "metadata": {},
   "outputs": [],
   "source": [
    "def predict_sensors(net, inputs, targets, unit_index): \n",
    "    fig = plt.figure(figsize=(15,5))\n",
    "    state = net.begin_state(1)\n",
    "    y_preb = net(inputs, state, unit_index)\n",
    "    \n",
    "    for i in range(6):\n",
    "        plt.subplot(2, 3, 1+i)\n",
    "        plt.plot(targets[8:,i], 'o', alpha=0.5)\n",
    "        plt.plot(y_preb[8:,i].detach().numpy(), color='#FF8D57', linewidth = 3)\n",
    "        \n",
    "    plt.subplots_adjust(wspace = 0.25, hspace = 0.35)\n",
    "    plt.show()"
   ]
  },
  {
   "cell_type": "code",
   "execution_count": 14,
   "id": "df5ae65a",
   "metadata": {},
   "outputs": [],
   "source": [
    "def predict_sensors2(targets, unit_index, valid_len): \n",
    "    fig = plt.figure(figsize=(12,4))\n",
    "    tmp_Psi = Psi[:valid_len]\n",
    "    y_pred = tmp_Psi @ gamma[unit_index].T\n",
    "    \n",
    "    for i in range(6):\n",
    "        plt.subplot(2, 3, 1+i)\n",
    "        t1 = np.arange(len(targets))\n",
    "        t2 = np.arange(len(tmp_Psi))\n",
    "        plt.plot(t1[8:], targets[8:,i], '.', markersize=3)\n",
    "        plt.plot(t2[8:], y_pred[8:,i], color='#FF8D57', linewidth = 3)\n",
    "        \n",
    "    plt.subplots_adjust(wspace = 0.25, hspace = 0.35)\n",
    "    plt.show()"
   ]
  },
  {
   "cell_type": "code",
   "execution_count": 15,
   "id": "d69e132f",
   "metadata": {},
   "outputs": [
    {
     "data": {
      "text/plain": [
       "((500, 3), (20, 6, 3))"
      ]
     },
     "execution_count": 15,
     "metadata": {},
     "output_type": "execute_result"
    }
   ],
   "source": [
    "# num_train = 20\n",
    "Psi = get_H(t, net.params, num_hiddens).detach().numpy()\n",
    "\n",
    "tmp_gamma = net.params[12].detach().numpy()\n",
    "gamma = np.zeros((num_train, num_sensors, num_hiddens))\n",
    "for i in range(num_train):\n",
    "    gamma[i] = tmp_gamma[i].T\n",
    "    \n",
    "Psi.shape, gamma.shape"
   ]
  },
  {
   "cell_type": "code",
   "execution_count": 16,
   "id": "82f1e6d7",
   "metadata": {},
   "outputs": [
    {
     "data": {
      "image/png": "[encoded data removed]",
      "text/plain": [
       "<Figure size 1080x360 with 6 Axes>"
      ]
     },
     "metadata": {
      "needs_background": "light"
     },
     "output_type": "display_data"
    }
   ],
   "source": [
    "unit_index = 6\n",
    "predict_sensors(net, T[unit_index], train_data[unit_index], unit_index)"
   ]
  },
  {
   "cell_type": "code",
   "execution_count": 22,
   "id": "e675c663",
   "metadata": {},
   "outputs": [],
   "source": [
    "lam, Th = 0.1, 1.20 # 大于Th的时间点被认为是异常点\n",
    "valid_obv = []\n",
    "    \n",
    "for i in range(num_train):\n",
    "    unit_i = selected_unit[i] \n",
    "    L = df_train[df_train['Unit'] == unit_i+1].iloc[:,2:].values\n",
    "    tmp_n, q = lengths[i], 2\n",
    "    tmp_Psi = Psi[:tmp_n]\n",
    "\n",
    "    # 初始化\n",
    "    H = tmp_Psi @ inv(tmp_Psi.T @ tmp_Psi + 1e-6*np.diag(np.ones(tmp_Psi.shape[1]))) @ tmp_Psi.T\n",
    "    X = np.eye(H.shape[0]) - H\n",
    "\n",
    "\n",
    "    Y = X @ L\n",
    "    gamma = inv(X.T @ X + lam*np.eye(X.shape[0])) @ X.T @ Y\n",
    "    \n",
    "    obv_index = []\n",
    "    for j in range(num_sensors):\n",
    "        obv_index.append(np.where(np.abs(gamma)[:,j]>Th))\n",
    "        \n",
    "    valid_obv.append(np.delete(np.arange(gamma.shape[0]),np.unique(np.hstack(obv_index))))"
   ]
  },
  {
   "cell_type": "code",
   "execution_count": 23,
   "id": "ded8dda9",
   "metadata": {},
   "outputs": [
    {
     "data": {
      "text/plain": [
       "array([0.02735257])"
      ]
     },
     "execution_count": 23,
     "metadata": {},
     "output_type": "execute_result"
    }
   ],
   "source": [
    "1 - np.hstack(valid_obv).shape/np.sum(lengths)"
   ]
  },
  {
   "cell_type": "code",
   "execution_count": 24,
   "id": "2d685141",
   "metadata": {},
   "outputs": [],
   "source": [
    "net = RNNModelScratch(num_inputs, num_hiddens, num_outputs, num_train, get_lstm_params, init_lstm_state, lstm)\n",
    "net.params = torch.load('LSTM-SVGD-Pre(20)-12.pth')"
   ]
  },
  {
   "cell_type": "code",
   "execution_count": 22,
   "id": "3a8dd4e9",
   "metadata": {},
   "outputs": [
    {
     "name": "stdout",
     "output_type": "stream",
     "text": [
      "epoch:1/1000\n",
      "Loss: 0.09465017169713974\n",
      "epoch:11/1000\n",
      "Loss: 0.09468325227499008\n",
      "epoch:21/1000\n",
      "Loss: 0.09464872628450394\n",
      "epoch:31/1000\n",
      "Loss: 0.09465204179286957\n",
      "epoch:41/1000\n",
      "Loss: 0.09464775025844574\n",
      "epoch:51/1000\n",
      "Loss: 0.09464658051729202\n",
      "epoch:61/1000\n",
      "Loss: 0.09464605897665024\n",
      "epoch:71/1000\n",
      "Loss: 0.09464549273252487\n",
      "epoch:81/1000\n",
      "Loss: 0.09464491903781891\n",
      "epoch:91/1000\n",
      "Loss: 0.09464430063962936\n",
      "epoch:101/1000\n",
      "Loss: 0.09464364498853683\n",
      "epoch:111/1000\n",
      "Loss: 0.09464296698570251\n",
      "epoch:121/1000\n",
      "Loss: 0.0946422666311264\n",
      "epoch:131/1000\n",
      "Loss: 0.0946415364742279\n",
      "epoch:141/1000\n",
      "Loss: 0.09464078396558762\n",
      "epoch:151/1000\n",
      "Loss: 0.09464000165462494\n",
      "epoch:161/1000\n",
      "Loss: 0.09463921934366226\n",
      "epoch:171/1000\n",
      "Loss: 0.094638392329216\n",
      "epoch:181/1000\n",
      "Loss: 0.09463755786418915\n",
      "epoch:191/1000\n",
      "Loss: 0.0946367010474205\n",
      "epoch:201/1000\n",
      "Loss: 0.09463582932949066\n",
      "epoch:211/1000\n",
      "Loss: 0.09463493525981903\n",
      "epoch:221/1000\n",
      "Loss: 0.09463401883840561\n",
      "epoch:231/1000\n",
      "Loss: 0.09463310241699219\n",
      "epoch:241/1000\n",
      "Loss: 0.09463216364383698\n",
      "epoch:251/1000\n",
      "Loss: 0.09463120251893997\n",
      "epoch:261/1000\n",
      "Loss: 0.09463022649288177\n",
      "epoch:271/1000\n",
      "Loss: 0.09462925046682358\n",
      "epoch:281/1000\n",
      "Loss: 0.0946282371878624\n",
      "epoch:291/1000\n",
      "Loss: 0.09462722390890121\n",
      "epoch:301/1000\n",
      "Loss: 0.09462620317935944\n",
      "epoch:311/1000\n",
      "Loss: 0.09462514519691467\n",
      "epoch:321/1000\n",
      "Loss: 0.0946241021156311\n",
      "epoch:331/1000\n",
      "Loss: 0.09462301433086395\n",
      "epoch:341/1000\n",
      "Loss: 0.0946219265460968\n",
      "epoch:351/1000\n",
      "Loss: 0.09462083131074905\n",
      "epoch:361/1000\n",
      "Loss: 0.09461970627307892\n",
      "epoch:371/1000\n",
      "Loss: 0.09461857378482819\n",
      "epoch:381/1000\n",
      "Loss: 0.09461744129657745\n",
      "epoch:391/1000\n",
      "Loss: 0.09461627900600433\n",
      "epoch:401/1000\n",
      "Loss: 0.09461510926485062\n",
      "epoch:411/1000\n",
      "Loss: 0.0946139246225357\n",
      "epoch:421/1000\n",
      "Loss: 0.0946127250790596\n",
      "epoch:431/1000\n",
      "Loss: 0.09461148828268051\n",
      "epoch:441/1000\n",
      "Loss: 0.09461025893688202\n",
      "epoch:451/1000\n",
      "Loss: 0.09460899978876114\n",
      "epoch:461/1000\n",
      "Loss: 0.09460773319005966\n",
      "epoch:471/1000\n",
      "Loss: 0.09460645914077759\n",
      "epoch:481/1000\n",
      "Loss: 0.09460514783859253\n",
      "epoch:491/1000\n",
      "Loss: 0.09460382163524628\n",
      "epoch:501/1000\n",
      "Loss: 0.09460248798131943\n",
      "epoch:511/1000\n",
      "Loss: 0.09460113197565079\n",
      "epoch:521/1000\n",
      "Loss: 0.09459976106882095\n",
      "epoch:531/1000\n",
      "Loss: 0.09459836781024933\n",
      "epoch:541/1000\n",
      "Loss: 0.09459695965051651\n",
      "epoch:551/1000\n",
      "Loss: 0.0945955142378807\n",
      "epoch:561/1000\n",
      "Loss: 0.0945940613746643\n",
      "epoch:571/1000\n",
      "Loss: 0.09459259361028671\n",
      "epoch:581/1000\n",
      "Loss: 0.09459109604358673\n",
      "epoch:591/1000\n",
      "Loss: 0.09458959102630615\n",
      "epoch:601/1000\n",
      "Loss: 0.09458804130554199\n",
      "epoch:611/1000\n",
      "Loss: 0.09458649903535843\n",
      "epoch:621/1000\n",
      "Loss: 0.09458491206169128\n",
      "epoch:631/1000\n",
      "Loss: 0.09458329528570175\n",
      "epoch:641/1000\n",
      "Loss: 0.09458167850971222\n",
      "epoch:651/1000\n",
      "Loss: 0.0945800244808197\n",
      "epoch:661/1000\n",
      "Loss: 0.09457836300134659\n",
      "epoch:671/1000\n",
      "Loss: 0.0945766419172287\n",
      "epoch:681/1000\n",
      "Loss: 0.0945749282836914\n",
      "epoch:691/1000\n",
      "Loss: 0.09457317739725113\n",
      "epoch:701/1000\n",
      "Loss: 0.09457139670848846\n",
      "epoch:711/1000\n",
      "Loss: 0.0945696011185646\n",
      "epoch:721/1000\n",
      "Loss: 0.09456776082515717\n",
      "epoch:731/1000\n",
      "Loss: 0.09456589072942734\n",
      "epoch:741/1000\n",
      "Loss: 0.09456402063369751\n",
      "epoch:751/1000\n",
      "Loss: 0.0945621132850647\n",
      "epoch:761/1000\n",
      "Loss: 0.09456061571836472\n",
      "epoch:771/1000\n",
      "Loss: 0.09456290304660797\n",
      "epoch:781/1000\n",
      "Loss: 0.09455682337284088\n",
      "epoch:791/1000\n",
      "Loss: 0.09455511718988419\n",
      "epoch:801/1000\n",
      "Loss: 0.0945529043674469\n",
      "epoch:811/1000\n",
      "Loss: 0.09455107897520065\n",
      "epoch:821/1000\n",
      "Loss: 0.09454911202192307\n",
      "epoch:831/1000\n",
      "Loss: 0.09454720467329025\n",
      "epoch:841/1000\n",
      "Loss: 0.09454526752233505\n",
      "epoch:851/1000\n",
      "Loss: 0.09454333782196045\n",
      "epoch:861/1000\n",
      "Loss: 0.09454202651977539\n",
      "epoch:871/1000\n",
      "Loss: 0.09454282373189926\n",
      "epoch:881/1000\n",
      "Loss: 0.09453877061605453\n",
      "epoch:891/1000\n",
      "Loss: 0.09453590959310532\n",
      "epoch:901/1000\n",
      "Loss: 0.09453419595956802\n",
      "epoch:911/1000\n",
      "Loss: 0.09453210234642029\n",
      "epoch:921/1000\n",
      "Loss: 0.09453015774488449\n",
      "epoch:931/1000\n",
      "Loss: 0.09452825784683228\n",
      "epoch:941/1000\n",
      "Loss: 0.09452633559703827\n",
      "epoch:951/1000\n",
      "Loss: 0.09452436864376068\n",
      "epoch:961/1000\n",
      "Loss: 0.09452243149280548\n",
      "epoch:971/1000\n",
      "Loss: 0.0945257768034935\n",
      "epoch:981/1000\n",
      "Loss: 0.09452418237924576\n",
      "epoch:991/1000\n",
      "Loss: 0.09451775252819061\n",
      "finished training!\n"
     ]
    }
   ],
   "source": [
    "num_epochs, lr = 1000, 0.001\n",
    "batch_size, step_size = 1, 1e-6\n",
    "loss_lt = train(net, lr, num_epochs, T, train_data, batch_size, model1, step_size, valid_obv)"
   ]
  },
  {
   "cell_type": "code",
   "execution_count": 72,
   "id": "006bc506",
   "metadata": {},
   "outputs": [
    {
     "name": "stdout",
     "output_type": "stream",
     "text": [
      "epoch:1/300\n",
      "Loss: 0.05890559032559395\n",
      "epoch:11/300\n",
      "Loss: 0.05893845111131668\n",
      "epoch:21/300\n",
      "Loss: 0.05890127271413803\n",
      "epoch:31/300\n",
      "Loss: 0.0589003749191761\n",
      "epoch:41/300\n",
      "Loss: 0.05889955908060074\n",
      "epoch:51/300\n",
      "Loss: 0.05889401584863663\n",
      "epoch:61/300\n",
      "Loss: 0.05889207124710083\n",
      "epoch:71/300\n",
      "Loss: 0.05888918787240982\n",
      "epoch:81/300\n",
      "Loss: 0.05888650566339493\n",
      "epoch:91/300\n",
      "Loss: 0.05888376757502556\n",
      "epoch:101/300\n",
      "Loss: 0.05888093635439873\n",
      "epoch:111/300\n",
      "Loss: 0.058878012001514435\n",
      "epoch:121/300\n",
      "Loss: 0.058875005692243576\n",
      "epoch:131/300\n",
      "Loss: 0.058871932327747345\n",
      "epoch:141/300\n",
      "Loss: 0.058868806809186935\n",
      "epoch:151/300\n",
      "Loss: 0.05886562913656235\n",
      "epoch:161/300\n",
      "Loss: 0.058862410485744476\n",
      "epoch:171/300\n",
      "Loss: 0.05885915085673332\n",
      "epoch:181/300\n",
      "Loss: 0.05885588377714157\n",
      "epoch:191/300\n",
      "Loss: 0.058852583169937134\n",
      "epoch:201/300\n",
      "Loss: 0.0588492751121521\n",
      "epoch:211/300\n",
      "Loss: 0.058845944702625275\n",
      "epoch:221/300\n",
      "Loss: 0.05884261801838875\n",
      "epoch:231/300\n",
      "Loss: 0.058839283883571625\n",
      "epoch:241/300\n",
      "Loss: 0.0588359609246254\n",
      "epoch:251/300\n",
      "Loss: 0.05883263424038887\n",
      "epoch:261/300\n",
      "Loss: 0.058829326182603836\n",
      "epoch:271/300\n",
      "Loss: 0.0588260293006897\n",
      "epoch:281/300\n",
      "Loss: 0.058822739869356155\n",
      "epoch:291/300\n",
      "Loss: 0.058819472789764404\n",
      "finished training!\n"
     ]
    }
   ],
   "source": [
    "num_epochs, lr = 300, 0.001\n",
    "batch_size, step_size = 1, 1e-6\n",
    "loss_lt = train(net, lr, num_epochs, T, train_data, batch_size, model1, step_size, valid_obv)"
   ]
  },
  {
   "cell_type": "code",
   "execution_count": 47,
   "id": "846ba905",
   "metadata": {},
   "outputs": [],
   "source": [
    "torch.save(net.params, 'LSTM-SVGD-Pre(20)-12.pth')"
   ]
  },
  {
   "cell_type": "code",
   "execution_count": 25,
   "id": "0653c663",
   "metadata": {},
   "outputs": [
    {
     "data": {
      "text/plain": [
       "((500, 3), (20, 6, 3))"
      ]
     },
     "execution_count": 25,
     "metadata": {},
     "output_type": "execute_result"
    }
   ],
   "source": [
    "t = [torch.tensor([i/500.0]) for i in range(500)]\n",
    "\n",
    "Psi = get_H(t, net.params, num_hiddens).detach().numpy()\n",
    "\n",
    "tmp_gamma = net.params[12].detach().numpy()\n",
    "gamma = np.zeros((num_train, num_sensors, num_hiddens))\n",
    "for i in range(num_train):\n",
    "    gamma[i] = tmp_gamma[i].T\n",
    "    \n",
    "Psi.shape, gamma.shape"
   ]
  },
  {
   "cell_type": "code",
   "execution_count": 26,
   "id": "62178b3b",
   "metadata": {},
   "outputs": [
    {
     "data": {
      "image/png": "[encoded data removed]",
      "text/plain": [
       "<Figure size 864x216 with 3 Axes>"
      ]
     },
     "metadata": {
      "needs_background": "light"
     },
     "output_type": "display_data"
    }
   ],
   "source": [
    "fig = plt.figure(figsize=(12,3))\n",
    "\n",
    "for i in range(3):\n",
    "    plt.subplot(1, 3, 1+i)\n",
    "    plt.plot(Psi[20:,i], color='#FF8D57', linewidth = 3)\n",
    "\n",
    "plt.subplots_adjust(wspace = 0.25, hspace = 0.35)\n",
    "plt.show()"
   ]
  },
  {
   "cell_type": "code",
   "execution_count": 27,
   "id": "60c29456",
   "metadata": {},
   "outputs": [
    {
     "data": {
      "text/plain": [
       "array([0.09719313, 0.0678529 , 0.06971608, 0.0628179 , 0.09550716,\n",
       "       0.0852938 ])"
      ]
     },
     "execution_count": 27,
     "metadata": {},
     "output_type": "execute_result"
    }
   ],
   "source": [
    "# 计算传感器噪声方差\n",
    "sigma2 = np.zeros(num_sensors)\n",
    "\n",
    "for i in range(num_sensors):\n",
    "    tmp_sigma2 = 0\n",
    "    tmp_m = 0\n",
    "    for j in range(num_train):\n",
    "        gamma_j = gamma[j,i]\n",
    "        sensor_data = train_data[j][:,i].detach().numpy()\n",
    "        tmp_n = lengths[j]\n",
    "        \n",
    "        tmp_Psi = Psi[:tmp_n]\n",
    "        sensor_path = tmp_Psi @ gamma_j\n",
    "        \n",
    "        tmp_sigma2 += np.power(sensor_path - sensor_data, 2).sum()\n",
    "        tmp_m += (tmp_n - 6)\n",
    "        \n",
    "    sigma2[i] = tmp_sigma2/tmp_m\n",
    "sigma2"
   ]
  },
  {
   "cell_type": "code",
   "execution_count": 28,
   "id": "214c69a1",
   "metadata": {},
   "outputs": [
    {
     "data": {
      "text/plain": [
       "((18, 18), (18, 1))"
      ]
     },
     "execution_count": 28,
     "metadata": {},
     "output_type": "execute_result"
    }
   ],
   "source": [
    "# gamma的均值和协方差\n",
    "cov_list = []\n",
    "for i in range(num_sensors):\n",
    "    data_i = gamma[:,i]\n",
    "    cov_i = np.cov(data_i.T)\n",
    "    cov_list.append(cov_i)\n",
    "    \n",
    "cov = block_diag(cov_list[0],cov_list[1],cov_list[2],cov_list[3],cov_list[4],cov_list[5])\n",
    "# cov = np.cov(gamma.reshape(num_train,-1).T)\n",
    "mu = gamma.reshape(num_train,-1).mean(axis=0).reshape(-1,1)\n",
    "\n",
    "cov.shape, mu.shape"
   ]
  },
  {
   "cell_type": "code",
   "execution_count": 29,
   "id": "ca376715",
   "metadata": {},
   "outputs": [],
   "source": [
    "# num_train = 100\n",
    "\n",
    "mu_i = np.zeros((num_train, 3*num_sensors,1)) \n",
    "cov_i = np.zeros((num_train,3*num_sensors,3*num_sensors))\n",
    "\n",
    "for i in range(num_train):\n",
    "    tmp_n = lengths[i]\n",
    "    obv_list = valid_obv[i]\n",
    "    tmp_psi = Psi[:tmp_n][obv_list]\n",
    "    \n",
    "    Psi_i = block_diag(tmp_psi,tmp_psi,tmp_psi,tmp_psi,tmp_psi,tmp_psi)\n",
    "    # 构建块对角矩阵\n",
    "    omega_i = np.diag(np.repeat(sigma2.reshape(-1,1),obv_list.shape[0],axis=1).flatten())\n",
    "\n",
    "    L_i = train_data[i][obv_list].detach().numpy().T.flatten().reshape(-1,1) # n_i*1\n",
    "    \n",
    "    # 计算后验分布\n",
    "    tmp_cov = inv(Psi_i.T @ inv(omega_i) @ Psi_i + inv(cov))\n",
    "    tmp_mu = tmp_cov @ (Psi_i.T @ inv(omega_i) @ L_i + inv(cov) @ mu)\n",
    "    \n",
    "    mu_i[i] = tmp_mu\n",
    "    cov_i[i] = tmp_cov"
   ]
  },
  {
   "cell_type": "code",
   "execution_count": 30,
   "id": "b63d794b",
   "metadata": {},
   "outputs": [
    {
     "data": {
      "text/plain": [
       "((500, 160, 6), (500, 160))"
      ]
     },
     "execution_count": 30,
     "metadata": {},
     "output_type": "execute_result"
    }
   ],
   "source": [
    "# 设置特征值-logistic regression\n",
    "N, delta, K = 80, 1, 25 # 超参数\n",
    "inputs = np.zeros((K*num_train,2*N,num_sensors))\n",
    "\n",
    "for i in range(num_train):\n",
    "    M = lengths[i]\n",
    "    gamma_samples = np.random.multivariate_normal(mu_i[i].flatten(), cov_i[i], size=K)  \n",
    "    \n",
    "    tt = torch.zeros(2*N, dtype=torch.long)\n",
    "    for j in range(2*N):\n",
    "        tt[j] = M + (j-N+1) * delta\n",
    "        \n",
    "    for k in range(K):\n",
    "        inputs[i*K+k] = (Psi @ gamma_samples[k].reshape(num_sensors,-1).T)[tt]\n",
    "        \n",
    "# 设置标签值\n",
    "labels = np.hstack((np.zeros(N), np.ones(N))).reshape(1,-1)\n",
    "# print(label.shape) (1,160)\n",
    "labels = np.repeat(labels, K*num_train, axis=0)\n",
    "\n",
    "inputs.shape, labels.shape"
   ]
  },
  {
   "cell_type": "code",
   "execution_count": 31,
   "id": "d9546af4",
   "metadata": {},
   "outputs": [
    {
     "data": {
      "text/plain": [
       "LogisticRegression(C=0.01, max_iter=1000, solver='sag')"
      ]
     },
     "execution_count": 31,
     "metadata": {},
     "output_type": "execute_result"
    }
   ],
   "source": [
    "from sklearn.linear_model import LogisticRegression\n",
    "X_train = inputs.reshape(-1,num_sensors)\n",
    "Y_train = labels.reshape(-1,1)\n",
    "X_train.shape, Y_train.shape\n",
    "\n",
    "model2 = LogisticRegression(penalty=\"l2\", C=0.01, solver=\"sag\", max_iter=1000) #创建模型\n",
    "model2.fit(X_train, Y_train.ravel()) #训练"
   ]
  },
  {
   "cell_type": "code",
   "execution_count": 32,
   "id": "3c7af31b",
   "metadata": {},
   "outputs": [
    {
     "data": {
      "image/png": "[encoded data removed]",
      "text/plain": [
       "<Figure size 864x288 with 6 Axes>"
      ]
     },
     "metadata": {
      "needs_background": "light"
     },
     "output_type": "display_data"
    }
   ],
   "source": [
    "index = 10\n",
    "sensor_data = train_data[index]\n",
    "\n",
    "M = lengths[index]\n",
    "t = torch.zeros(2*N, dtype=torch.long)\n",
    "for j in range(2*N):\n",
    "    t[j] = M + (j-N+1) * delta\n",
    "\n",
    "fig = plt.figure(figsize=(12,4))\n",
    "for i in range(6):\n",
    "    plt.subplot(2, 3, 1+i)\n",
    "    plt.plot(sensor_data[:,i], 'o', alpha=0.5)\n",
    "    for k in range(K):\n",
    "        sensor_path = inputs[index*K + k]\n",
    "        plt.plot(t, sensor_path[:,i], color='#FF8D57', linewidth = 0.2)"
   ]
  },
  {
   "cell_type": "code",
   "execution_count": 33,
   "id": "a9842d23",
   "metadata": {},
   "outputs": [],
   "source": [
    "df_test = pd.read_csv('test_data.csv')\n",
    "num_test = df_test['Unit'].max()      # 测试数据数量\n",
    "\n",
    "test_data = []\n",
    "test_lengths = []\n",
    "for i in range(num_test):\n",
    "    Y = np.array(df_test[df_test['Unit']==i+1].iloc[:,2:]) \n",
    "    test_data.append(Y)\n",
    "    test_lengths.append(len(Y))"
   ]
  },
  {
   "cell_type": "code",
   "execution_count": 34,
   "id": "020f71c9",
   "metadata": {},
   "outputs": [],
   "source": [
    "lam, Th = 0.1, 0.70 # 大于Th的时间点被认为是异常点\n",
    "updated_data = []\n",
    "  \n",
    "a = 0\n",
    "for i in range(num_test):\n",
    "    L = test_data[i].copy()\n",
    "    tmp_n, q = test_lengths[i], 2\n",
    "    tmp_Psi = Psi[:tmp_n]\n",
    "\n",
    "    # 初始化\n",
    "    H = tmp_Psi @ inv(tmp_Psi.T @ tmp_Psi + 1e-6*np.diag(np.ones(tmp_Psi.shape[1]))) @ tmp_Psi.T\n",
    "    X = np.eye(H.shape[0]) - H\n",
    "    \n",
    "    cnt = []\n",
    "    for i in range(5):\n",
    "        Y = X @ L\n",
    "        gamma = inv(X.T @ X + lam*np.eye(X.shape[0])) @ X.T @ Y\n",
    "    \n",
    "        obv_index = []\n",
    "        for i in range(num_sensors):\n",
    "            obv_index.append(np.where(np.abs(gamma)[:,i]>Th))\n",
    "\n",
    "        obv_index = np.unique(np.hstack(obv_index))\n",
    "\n",
    "        L[obv_index] = L[obv_index] - gamma[obv_index] # corrected\n",
    "        \n",
    "        cnt.append(obv_index)\n",
    "    \n",
    "    a += len(np.unique(np.hstack(cnt)))\n",
    "    \n",
    "    updated_data.append(L)"
   ]
  },
  {
   "cell_type": "code",
   "execution_count": 34,
   "id": "e83d6640",
   "metadata": {},
   "outputs": [
    {
     "data": {
      "text/plain": [
       "1853"
      ]
     },
     "execution_count": 34,
     "metadata": {},
     "output_type": "execute_result"
    }
   ],
   "source": [
    "a"
   ]
  },
  {
   "cell_type": "code",
   "execution_count": 35,
   "id": "6394911d",
   "metadata": {},
   "outputs": [
    {
     "data": {
      "text/plain": [
       "0.14149358582773366"
      ]
     },
     "execution_count": 35,
     "metadata": {},
     "output_type": "execute_result"
    }
   ],
   "source": [
    "a/sum(test_lengths)"
   ]
  },
  {
   "cell_type": "code",
   "execution_count": 35,
   "id": "8523705b",
   "metadata": {},
   "outputs": [
    {
     "data": {
      "text/plain": [
       "((100, 18, 1), (100, 18, 18))"
      ]
     },
     "execution_count": 35,
     "metadata": {},
     "output_type": "execute_result"
    }
   ],
   "source": [
    "lam, Th = 0.1, 0.70 # 大于Th的时间点被认为是异常点\n",
    "updated_data = []\n",
    "    \n",
    "for i in range(num_test):\n",
    "    L = test_data[i].copy()\n",
    "    tmp_n, q = test_lengths[i], 2\n",
    "    tmp_Psi = Psi[:tmp_n]\n",
    "\n",
    "    # 初始化\n",
    "    H = tmp_Psi @ inv(tmp_Psi.T @ tmp_Psi + 1e-6*np.diag(np.ones(tmp_Psi.shape[1]))) @ tmp_Psi.T\n",
    "    X = np.eye(H.shape[0]) - H\n",
    "    \n",
    "    for i in range(5):\n",
    "        Y = X @ L\n",
    "        gamma = inv(X.T @ X + lam*np.eye(X.shape[0])) @ X.T @ Y\n",
    "    \n",
    "        obv_index = []\n",
    "        for i in range(num_sensors):\n",
    "            obv_index.append(np.where(np.abs(gamma)[:,i]>Th))\n",
    "\n",
    "        obv_index = np.unique(np.hstack(obv_index))\n",
    "\n",
    "        L[obv_index] = L[obv_index] - gamma[obv_index] # corrected\n",
    "    \n",
    "    updated_data.append(L)\n",
    "\n",
    "mu_j = np.zeros((num_test, num_hiddens*num_sensors,1)) \n",
    "cov_j = np.zeros((num_test,num_hiddens*num_sensors,num_hiddens*num_sensors))\n",
    "\n",
    "for i in range(num_test):\n",
    "    tmp_n = test_lengths[i]\n",
    "    tmp_psi = Psi[:tmp_n]\n",
    "    \n",
    "    Psi_i = block_diag(tmp_psi,tmp_psi,tmp_psi,tmp_psi,tmp_psi,tmp_psi)\n",
    "    # 构建块对角矩阵\n",
    "    omega_i = np.diag(np.repeat(sigma2.reshape(-1,1),tmp_n,axis=1).flatten())\n",
    "\n",
    "    L_i = updated_data[i].T.flatten().reshape(-1,1) # n_i*1\n",
    "    \n",
    "    # 计算后验分布\n",
    "    tmp_cov = inv(Psi_i.T @ inv(omega_i) @ Psi_i + inv(cov))\n",
    "    tmp_mu = tmp_cov @ (Psi_i.T @ inv(omega_i) @ L_i + inv(cov) @ mu)\n",
    "    \n",
    "    mu_j[i] = tmp_mu\n",
    "    cov_j[i] = tmp_cov\n",
    "\n",
    "mu_j.shape, cov_j.shape"
   ]
  },
  {
   "cell_type": "code",
   "execution_count": 66,
   "id": "14d03845",
   "metadata": {},
   "outputs": [
    {
     "data": {
      "image/png": "[encoded data removed]",
      "text/plain": [
       "<Figure size 1080x360 with 6 Axes>"
      ]
     },
     "metadata": {
      "needs_background": "light"
     },
     "output_type": "display_data"
    }
   ],
   "source": [
    "index = 1\n",
    "raw_data = test_data[index]\n",
    "up_data = updated_data[index]\n",
    "\n",
    "fig = plt.figure(figsize=(15,5))\n",
    "\n",
    "for i in range(6):\n",
    "    plt.subplot(2, 3, 1+i)\n",
    "    plt.plot(up_data[:,i], 's', alpha = 1.0)\n",
    "    plt.plot(raw_data[:,i], 'o', alpha = 1.0)\n",
    "    \n",
    "plt.subplots_adjust(wspace = 0.25, hspace = 0.4)\n",
    "plt.show()"
   ]
  },
  {
   "cell_type": "code",
   "execution_count": 67,
   "id": "8ecda4c3",
   "metadata": {},
   "outputs": [],
   "source": [
    "np.save('test_mu_svgd.npy',mu_j)\n",
    "np.save('test_cov_svgd.npy',cov_j)"
   ]
  },
  {
   "cell_type": "code",
   "execution_count": 71,
   "id": "9257cbb7",
   "metadata": {},
   "outputs": [
    {
     "data": {
      "image/png": "[encoded data removed]",
      "text/plain": [
       "<Figure size 864x288 with 6 Axes>"
      ]
     },
     "metadata": {
      "needs_background": "light"
     },
     "output_type": "display_data"
    }
   ],
   "source": [
    "index, K, valid_len = 3, 25, 300\n",
    "sensor_data = test_data[index]\n",
    "tmp_Psi = Psi[:valid_len]\n",
    "gamma_samples = np.random.multivariate_normal(mu_j[index].flatten(), cov_j[index], size=K)\n",
    "\n",
    "fig = plt.figure(figsize=(12,4))\n",
    "\n",
    "for i in range(6):\n",
    "    plt.subplot(2, 3, 1+i)\n",
    "    plt.plot(sensor_data[:,i], 'o', alpha = 0.5)\n",
    "    for k in range(K):\n",
    "        sensor_path = tmp_Psi @ gamma_samples[k].reshape(num_sensors,-1).T\n",
    "        plt.plot(sensor_path[:,i], color='#FF8D57', linewidth=0.3)\n",
    "        \n",
    "plt.subplots_adjust(wspace = 0.25, hspace = 0.4)\n",
    "plt.show()"
   ]
  },
  {
   "cell_type": "code",
   "execution_count": 37,
   "id": "64eb4ac0",
   "metadata": {},
   "outputs": [],
   "source": [
    "def RMSE(true_RUL, pred_RUL):\n",
    "    d = true_RUL - pred_RUL\n",
    "    return np.sqrt(np.power(d,2).mean())\n",
    "\n",
    "def score(true_RUL, pred_RUL):\n",
    "    d = pred_RUL - true_RUL\n",
    "    n = len(true_RUL)\n",
    "    score = np.zeros(n)\n",
    "    for i in range(n):\n",
    "        d_i = d[i]\n",
    "        if d_i >= 0:\n",
    "            score[i] = np.exp(d_i/10) - 1\n",
    "        elif d_i < 0:\n",
    "            score[i] = np.exp(-d_i/13) - 1\n",
    "    return score.sum()"
   ]
  },
  {
   "cell_type": "code",
   "execution_count": 38,
   "id": "2383f87f",
   "metadata": {},
   "outputs": [],
   "source": [
    "results1 = np.zeros(50)\n",
    "results2 = np.zeros(50)\n",
    "results3 = np.zeros(50)\n",
    "\n",
    "for l in range(50):\n",
    "    # 设置特征值\n",
    "    K = 100 # 超参数\n",
    "    X_test = np.zeros((num_test, K, Psi.shape[0], num_sensors))\n",
    "    for i in range(num_test):\n",
    "        gamma_samples = np.random.multivariate_normal(mu_j[i].flatten(), cov_j[i], size=K)    \n",
    "        for k in range(K):\n",
    "            X_test[i,k] = Psi @ gamma_samples[k].reshape(num_sensors,-1).T\n",
    "            \n",
    "    pred_RUL = np.zeros(num_test)\n",
    "\n",
    "    for i in range(num_test):\n",
    "        \n",
    "        p = np.zeros((K, Psi.shape[0]))\n",
    "        for k in range(K):\n",
    "            x_i = X_test[i,k]\n",
    "            p[k] = model2.predict_proba(x_i)[:,1]\n",
    "        pp = p.mean(axis=0)\n",
    "        tmp_n = test_lengths[i]\n",
    "        p_T = (pp - pp[tmp_n])/(1 - pp[tmp_n])\n",
    "        pred_RUL[i] = np.where(p_T > 0.5)[0][0] - tmp_n\n",
    "        \n",
    "    df_RUL = pd.read_csv('RUL_FD001.txt',names=['true_RUL'])\n",
    "    df_RUL['pred_RUL'] = pred_RUL\n",
    "    df_RUL['lifetime'] = df_RUL['true_RUL'] + test_lengths\n",
    "    df_RUL['error'] = np.abs(df_RUL['true_RUL']-df_RUL['pred_RUL'])/df_RUL['lifetime']\n",
    "    results1[l] = df_RUL['error'].mean()\n",
    "    results2[l] = RMSE(df_RUL['true_RUL'], df_RUL['pred_RUL'])\n",
    "    results3[l] = score(df_RUL['true_RUL'], df_RUL['pred_RUL'])"
   ]
  },
  {
   "cell_type": "code",
   "execution_count": 39,
   "id": "a120627b",
   "metadata": {},
   "outputs": [
    {
     "data": {
      "text/plain": [
       "(0.06110522328008832, 0.0006369264397932704)"
      ]
     },
     "execution_count": 39,
     "metadata": {},
     "output_type": "execute_result"
    }
   ],
   "source": [
    "results1.mean(), results1.std()"
   ]
  },
  {
   "cell_type": "code",
   "execution_count": 89,
   "id": "14d70174",
   "metadata": {},
   "outputs": [
    {
     "data": {
      "text/plain": [
       "(24.30924219313164, 0.22032701983252886)"
      ]
     },
     "execution_count": 89,
     "metadata": {},
     "output_type": "execute_result"
    }
   ],
   "source": [
    "results2.mean(), results2.std()"
   ]
  },
  {
   "cell_type": "code",
   "execution_count": 74,
   "id": "65809358",
   "metadata": {},
   "outputs": [
    {
     "data": {
      "text/plain": [
       "(473.2474552813243, 14.363800970702076)"
      ]
     },
     "execution_count": 74,
     "metadata": {},
     "output_type": "execute_result"
    }
   ],
   "source": [
    "results3.mean(), results3.std()"
   ]
  },
  {
   "cell_type": "code",
   "execution_count": 37,
   "id": "c682bee4",
   "metadata": {},
   "outputs": [
    {
     "data": {
      "text/html": [
       "<div>\n",
       "<style scoped>\n",
       "    .dataframe tbody tr th:only-of-type {\n",
       "        vertical-align: middle;\n",
       "    }\n",
       "\n",
       "    .dataframe tbody tr th {\n",
       "        vertical-align: top;\n",
       "    }\n",
       "\n",
       "    .dataframe thead th {\n",
       "        text-align: right;\n",
       "    }\n",
       "</style>\n",
       "<table border=\"1\" class=\"dataframe\">\n",
       "  <thead>\n",
       "    <tr style=\"text-align: right;\">\n",
       "      <th></th>\n",
       "      <th>true_RUL</th>\n",
       "      <th>pred_RUL</th>\n",
       "      <th>lifetime</th>\n",
       "      <th>error</th>\n",
       "    </tr>\n",
       "  </thead>\n",
       "  <tbody>\n",
       "    <tr>\n",
       "      <th>0</th>\n",
       "      <td>112</td>\n",
       "      <td>145.0</td>\n",
       "      <td>143</td>\n",
       "      <td>0.230769</td>\n",
       "    </tr>\n",
       "    <tr>\n",
       "      <th>1</th>\n",
       "      <td>98</td>\n",
       "      <td>129.0</td>\n",
       "      <td>147</td>\n",
       "      <td>0.210884</td>\n",
       "    </tr>\n",
       "    <tr>\n",
       "      <th>2</th>\n",
       "      <td>69</td>\n",
       "      <td>58.0</td>\n",
       "      <td>195</td>\n",
       "      <td>0.056410</td>\n",
       "    </tr>\n",
       "    <tr>\n",
       "      <th>3</th>\n",
       "      <td>82</td>\n",
       "      <td>74.0</td>\n",
       "      <td>188</td>\n",
       "      <td>0.042553</td>\n",
       "    </tr>\n",
       "    <tr>\n",
       "      <th>4</th>\n",
       "      <td>91</td>\n",
       "      <td>82.0</td>\n",
       "      <td>189</td>\n",
       "      <td>0.047619</td>\n",
       "    </tr>\n",
       "    <tr>\n",
       "      <th>5</th>\n",
       "      <td>93</td>\n",
       "      <td>108.0</td>\n",
       "      <td>198</td>\n",
       "      <td>0.075758</td>\n",
       "    </tr>\n",
       "    <tr>\n",
       "      <th>6</th>\n",
       "      <td>91</td>\n",
       "      <td>92.0</td>\n",
       "      <td>251</td>\n",
       "      <td>0.003984</td>\n",
       "    </tr>\n",
       "    <tr>\n",
       "      <th>7</th>\n",
       "      <td>95</td>\n",
       "      <td>83.0</td>\n",
       "      <td>261</td>\n",
       "      <td>0.045977</td>\n",
       "    </tr>\n",
       "    <tr>\n",
       "      <th>8</th>\n",
       "      <td>111</td>\n",
       "      <td>143.0</td>\n",
       "      <td>166</td>\n",
       "      <td>0.192771</td>\n",
       "    </tr>\n",
       "    <tr>\n",
       "      <th>9</th>\n",
       "      <td>96</td>\n",
       "      <td>67.0</td>\n",
       "      <td>288</td>\n",
       "      <td>0.100694</td>\n",
       "    </tr>\n",
       "    <tr>\n",
       "      <th>10</th>\n",
       "      <td>97</td>\n",
       "      <td>112.0</td>\n",
       "      <td>180</td>\n",
       "      <td>0.083333</td>\n",
       "    </tr>\n",
       "    <tr>\n",
       "      <th>11</th>\n",
       "      <td>124</td>\n",
       "      <td>101.0</td>\n",
       "      <td>341</td>\n",
       "      <td>0.067449</td>\n",
       "    </tr>\n",
       "    <tr>\n",
       "      <th>12</th>\n",
       "      <td>95</td>\n",
       "      <td>72.0</td>\n",
       "      <td>290</td>\n",
       "      <td>0.079310</td>\n",
       "    </tr>\n",
       "    <tr>\n",
       "      <th>13</th>\n",
       "      <td>107</td>\n",
       "      <td>134.0</td>\n",
       "      <td>153</td>\n",
       "      <td>0.176471</td>\n",
       "    </tr>\n",
       "    <tr>\n",
       "      <th>14</th>\n",
       "      <td>83</td>\n",
       "      <td>102.0</td>\n",
       "      <td>159</td>\n",
       "      <td>0.119497</td>\n",
       "    </tr>\n",
       "    <tr>\n",
       "      <th>15</th>\n",
       "      <td>84</td>\n",
       "      <td>92.0</td>\n",
       "      <td>197</td>\n",
       "      <td>0.040609</td>\n",
       "    </tr>\n",
       "    <tr>\n",
       "      <th>16</th>\n",
       "      <td>50</td>\n",
       "      <td>43.0</td>\n",
       "      <td>215</td>\n",
       "      <td>0.032558</td>\n",
       "    </tr>\n",
       "    <tr>\n",
       "      <th>17</th>\n",
       "      <td>28</td>\n",
       "      <td>28.0</td>\n",
       "      <td>161</td>\n",
       "      <td>0.000000</td>\n",
       "    </tr>\n",
       "    <tr>\n",
       "      <th>18</th>\n",
       "      <td>87</td>\n",
       "      <td>75.0</td>\n",
       "      <td>222</td>\n",
       "      <td>0.054054</td>\n",
       "    </tr>\n",
       "    <tr>\n",
       "      <th>19</th>\n",
       "      <td>16</td>\n",
       "      <td>16.0</td>\n",
       "      <td>200</td>\n",
       "      <td>0.000000</td>\n",
       "    </tr>\n",
       "  </tbody>\n",
       "</table>\n",
       "</div>"
      ],
      "text/plain": [
       "    true_RUL  pred_RUL  lifetime     error\n",
       "0        112     145.0       143  0.230769\n",
       "1         98     129.0       147  0.210884\n",
       "2         69      58.0       195  0.056410\n",
       "3         82      74.0       188  0.042553\n",
       "4         91      82.0       189  0.047619\n",
       "5         93     108.0       198  0.075758\n",
       "6         91      92.0       251  0.003984\n",
       "7         95      83.0       261  0.045977\n",
       "8        111     143.0       166  0.192771\n",
       "9         96      67.0       288  0.100694\n",
       "10        97     112.0       180  0.083333\n",
       "11       124     101.0       341  0.067449\n",
       "12        95      72.0       290  0.079310\n",
       "13       107     134.0       153  0.176471\n",
       "14        83     102.0       159  0.119497\n",
       "15        84      92.0       197  0.040609\n",
       "16        50      43.0       215  0.032558\n",
       "17        28      28.0       161  0.000000\n",
       "18        87      75.0       222  0.054054\n",
       "19        16      16.0       200  0.000000"
      ]
     },
     "execution_count": 37,
     "metadata": {},
     "output_type": "execute_result"
    }
   ],
   "source": [
    "df_RUL.head(20)"
   ]
  }
 ],
 "metadata": {
  "kernelspec": {
   "display_name": "Python 3 (ipykernel)",
   "language": "python",
   "name": "python3"
  },
  "language_info": {
   "codemirror_mode": {
    "name": "ipython",
    "version": 3
   },
   "file_extension": ".py",
   "mimetype": "text/x-python",
   "name": "python",
   "nbconvert_exporter": "python",
   "pygments_lexer": "ipython3",
   "version": "3.9.12"
  }
 },
 "nbformat": 4,
 "nbformat_minor": 5
}
