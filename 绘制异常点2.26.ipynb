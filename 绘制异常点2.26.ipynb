{
 "cells": [
  {
   "cell_type": "code",
   "execution_count": 1,
   "id": "34ddde09",
   "metadata": {},
   "outputs": [],
   "source": [
    "%matplotlib inline\n",
    "import math\n",
    "import torch\n",
    "from torch import nn\n",
    "from torch.nn import functional as F\n",
    "from torch.autograd import Variable\n",
    "from torch.distributions import Normal\n",
    "from scipy.linalg import block_diag\n",
    "from numpy.linalg import inv\n",
    "import torch.optim as optim\n",
    "import matplotlib.pyplot as plt\n",
    "import numpy as np\n",
    "import pandas as pd\n",
    "import seaborn as sns\n",
    "from scipy import stats\n",
    "from scipy.spatial.distance import pdist, squareform\n",
    "import numpy.matlib as nm\n",
    "import os\n",
    "os.environ[\"KMP_DUPLICATE_LIB_OK\"]  =  \"TRUE\""
   ]
  },
  {
   "cell_type": "code",
   "execution_count": 3,
   "id": "2776aedf",
   "metadata": {},
   "outputs": [],
   "source": [
    "def get_lstm_params(num_inputs, num_hiddens, num_outputs, num_units):\n",
    "    \n",
    "    def normal(shape):\n",
    "        return Variable(nn.Parameter(torch.randn(size = shape))) * 0.01\n",
    "    def zero(shape):\n",
    "        return Variable(nn.Parameter(torch.zeros(shape)))\n",
    "    def three(num_inputs, num_hiddens, num_outputs):\n",
    "        return (normal((num_inputs, num_hiddens)), normal((num_hiddens, num_hiddens)), zero(num_hiddens))\n",
    "    \n",
    "    W_xi, W_hi, b_i = three(num_inputs, num_hiddens, num_outputs) # 输入门参数\n",
    "    W_xf, W_hf, b_f = three(num_inputs, num_hiddens, num_outputs) # 遗忘门参数\n",
    "    W_xo, W_ho, b_o = three(num_inputs, num_hiddens, num_outputs) # 输出门参数\n",
    "    W_xc, W_hc, b_c = three(num_inputs, num_hiddens, num_outputs) # 候选记忆门参数\n",
    "    \n",
    "    # 输出层参数\n",
    "    W_hq = normal((num_units, num_hiddens, num_outputs))\n",
    "    \n",
    "    params = [W_xi, W_hi, b_i, W_xf, W_hf, b_f, W_xo, W_ho, b_o, W_xc, W_hc, b_c, W_hq]\n",
    "    for param in params:\n",
    "        param.requires_grad_(True)\n",
    "    \n",
    "    return params "
   ]
  },
  {
   "cell_type": "code",
   "execution_count": 4,
   "id": "a4734078",
   "metadata": {},
   "outputs": [],
   "source": [
    "def init_lstm_state(batch_size, num_hiddens):\n",
    "    return (torch.ones(batch_size, num_hiddens)*(-20.0), \n",
    "            torch.ones(batch_size, num_hiddens)*(-20.0))"
   ]
  },
  {
   "cell_type": "code",
   "execution_count": 5,
   "id": "a5885c33",
   "metadata": {},
   "outputs": [],
   "source": [
    "def lstm(inputs, state, unit_index, params):\n",
    "    [W_xi, W_hi, b_i, W_xf, W_hf, b_f, W_xo, W_ho, b_o, W_xc, W_hc, b_c] = params[:12]\n",
    "    W_hq = params[12][unit_index]\n",
    "    (H, C) = state\n",
    "    \n",
    "    outputs = []\n",
    "    for X in inputs:\n",
    "        I = torch.sigmoid((X @ W_xi) + (H @ W_hi) + b_i)\n",
    "        F = torch.sigmoid((X @ W_xf) + (H @ W_hf) + b_f)\n",
    "        O = torch.sigmoid((X @ W_xo) + (H @ W_ho) + b_o)\n",
    "\n",
    "        C_tilda = torch.tanh((X @ W_xc) + (H @ W_hc) + b_c)\n",
    "        C = F * C + I * C_tilda \n",
    "        H = O * torch.relu(C)\n",
    "        Y = H @ W_hq\n",
    "        outputs.append(Y)\n",
    "\n",
    "    return torch.cat(outputs, dim = 0)"
   ]
  },
  {
   "cell_type": "code",
   "execution_count": 6,
   "id": "df721d76",
   "metadata": {},
   "outputs": [],
   "source": [
    "class RNNModelScratch():\n",
    "    def __init__(self, num_inputs, num_hiddens, num_outputs, \n",
    "                 num_units, get_params, init_state, forward_fn):   \n",
    "        self.num_inputs, self.num_hiddens = num_inputs, num_hiddens\n",
    "        self.num_outputs, self.num_units = num_outputs, num_units\n",
    "        self.params = get_params(num_inputs, num_hiddens, num_outputs, num_units)\n",
    "        self.init_state, self.forward_fn = init_state, forward_fn\n",
    "        \n",
    "    def __call__(self, X, state, unit_index):\n",
    "        return self.forward_fn(X, state, unit_index, self.params)\n",
    "    \n",
    "    def begin_state(self, batch_size):\n",
    "        return self.init_state(batch_size, self.num_hiddens)"
   ]
  },
  {
   "cell_type": "code",
   "execution_count": 7,
   "id": "5f98ba4b",
   "metadata": {},
   "outputs": [],
   "source": [
    "class SVGD():\n",
    "\n",
    "    def __init__(self):\n",
    "        pass\n",
    "    \n",
    "    def svgd_kernel(self, theta, h = -1):\n",
    "        sq_dist = pdist(theta)\n",
    "        pairwise_dists = squareform(sq_dist)**2  # 转化为距离矩阵\n",
    "        if h < 0: # if h < 0, using median trick\n",
    "            h = np.median(pairwise_dists)  \n",
    "            h = np.sqrt(0.5 * h / np.log(theta.shape[0]+1))\n",
    "\n",
    "        # compute the rbf kernel\n",
    "        Kxy = np.exp( -pairwise_dists / h**2 / 2)\n",
    "\n",
    "        dxkxy = -np.matmul(Kxy, theta)\n",
    "        sumkxy = np.sum(Kxy, axis=1)\n",
    "        for i in range(theta.shape[1]):\n",
    "            dxkxy[:, i] = dxkxy[:,i] + np.multiply(theta[:,i],sumkxy)\n",
    "        dxkxy = dxkxy / (h**2)\n",
    "        return (Kxy, dxkxy)\n",
    "    \n",
    " \n",
    "    def update(self, x0, historical_grad, lnprob, n_iter, stepsize, bandwidth = -1, alpha = 0.9, debug = False):\n",
    "        # Check input\n",
    "        if x0 is None or lnprob is None:\n",
    "            raise ValueError('x0 or lnprob cannot be None!')\n",
    "        \n",
    "        theta = np.copy(x0) \n",
    "        \n",
    "        # adagrad with momentum\n",
    "        fudge_factor = 1e-6\n",
    "        # historical_grad = 0\n",
    "        # for iter in range(n_iter):\n",
    "        #    if debug and (iter+1) % 1000 == 0:\n",
    "        #        print('iter ' + str(iter+1))\n",
    "            \n",
    "        lnpgrad = lnprob(theta)\n",
    "        # calculating the kernel matrix\n",
    "        kxy, dxkxy = self.svgd_kernel(theta, h = -1)  \n",
    "        grad_theta = (np.matmul(kxy, lnpgrad) + dxkxy) / x0.shape[0]  \n",
    "\n",
    "        # adagrad \n",
    "        if n_iter == 0:\n",
    "            historical_grad = historical_grad + grad_theta ** 2\n",
    "        historical_grad = alpha * historical_grad + (1 - alpha) * (grad_theta ** 2)\n",
    "        \n",
    "        adj_grad = np.divide(grad_theta, fudge_factor+np.sqrt(historical_grad))\n",
    "        # theta = theta + stepsize * adj_grad \n",
    "            \n",
    "        return adj_grad, historical_grad"
   ]
  },
  {
   "cell_type": "code",
   "execution_count": 8,
   "id": "a86e2727",
   "metadata": {},
   "outputs": [],
   "source": [
    "class MVN:\n",
    "    def __init__(self, mu, A):\n",
    "        self.mu = mu\n",
    "        self.A = A # 协方差的逆矩阵\n",
    "    \n",
    "    def dlnprob(self, theta):\n",
    "        return -1*np.matmul(theta-nm.repmat(self.mu, theta.shape[0], 1), self.A)"
   ]
  },
  {
   "cell_type": "code",
   "execution_count": 9,
   "id": "c0b31110",
   "metadata": {},
   "outputs": [],
   "source": [
    "def train(net, lr, num_epochs, inputs, targets, batch_size, model, step_size, valid_obv):\n",
    "    # train(net, lr, num_epochs, X, train_data, batch_size, model, step_size, valid_obv)\n",
    "    loss = nn.MSELoss()\n",
    "    updater = optim.Adam(net.params, lr)\n",
    "    num_unit = len(inputs)\n",
    "    \n",
    "    historical_grad = 0\n",
    "    loss_lt = np.zeros(num_epochs)\n",
    "    for epoch in range(num_epochs):\n",
    "        L = torch.zeros(num_unit)      \n",
    "        for i in range(num_unit):\n",
    "            tmp_obv = valid_obv[i]\n",
    "            state = net.begin_state(batch_size)\n",
    "            y_preb = net(inputs[i], state, i)\n",
    "            L[i] = loss(y_preb[tmp_obv], targets[i][tmp_obv])\n",
    "        \n",
    "        tmp_gamma = net.params[12].detach().permute(0,2,1).numpy().reshape(num_unit, -1)\n",
    "        grad, historical_grad = SVGD().update(tmp_gamma, historical_grad, model.dlnprob, epoch, step_size)\n",
    "        \n",
    "        loss_lt[epoch] = L.mean().item()\n",
    "        updater.zero_grad()\n",
    "        L.mean().backward()\n",
    "        updater.step()\n",
    "        \n",
    "        net.params[12].data += step_size * torch.tensor(grad.reshape(num_unit,3,num_sensors), dtype=torch.float)\n",
    "        # net.params[12] = torch.tensor(net.params[12].detach().numpy(), dtype=torch.float, requires_grad=True)\n",
    "        \n",
    "        if epoch % 10 == 0:\n",
    "            print('epoch:{}/{}'.format(epoch+1, num_epochs))\n",
    "            print('Loss:', L.mean().item())\n",
    "\n",
    "    print('finished training!')\n",
    "\n",
    "    return loss_lt"
   ]
  },
  {
   "cell_type": "code",
   "execution_count": 10,
   "id": "621b6634",
   "metadata": {},
   "outputs": [],
   "source": [
    "# A = np.diag(np.ones(18))\n",
    "# mu = np.zeros(18)\n",
    "\n",
    "A = np.load('cov1.npy')\n",
    "mu = np.load('mu1.npy').reshape(-1)\n",
    "\n",
    "model1 = MVN(mu, A)"
   ]
  },
  {
   "cell_type": "code",
   "execution_count": 11,
   "id": "02d2fa59",
   "metadata": {},
   "outputs": [],
   "source": [
    "#  读入训练数据\n",
    "df_train = pd.read_csv('train_data.csv')\n",
    "num_units = df_train['Unit'].max()\n",
    "num_train = 20\n",
    "num_sensors = 6\n",
    "\n",
    "np.random.seed(111)\n",
    "selected_unit = np.random.choice(num_units, num_train, replace=False)\n",
    "\n",
    "t = [torch.tensor([i/500.0]) for i in range(500)]\n",
    "T = []\n",
    "train_data = []\n",
    "lengths = []\n",
    "\n",
    "for i in selected_unit:\n",
    "    sensor_data = torch.tensor(df_train[df_train['Unit'] == i+1].iloc[:,2:].values, dtype = torch.float)  \n",
    "    T.append(t[:sensor_data.shape[0]])\n",
    "    train_data.append(sensor_data)\n",
    "    lengths.append(len(sensor_data)) "
   ]
  },
  {
   "cell_type": "code",
   "execution_count": 12,
   "id": "d53f56cd",
   "metadata": {},
   "outputs": [],
   "source": [
    "num_inputs = 1\n",
    "num_hiddens = 3\n",
    "num_outputs = 6\n",
    "net = RNNModelScratch(num_inputs, num_hiddens, num_outputs, num_train, get_lstm_params, init_lstm_state, lstm)\n",
    "net.params = torch.load('LSTM-SVGD(20)-1.pth')"
   ]
  },
  {
   "cell_type": "code",
   "execution_count": 13,
   "id": "a1eee72e",
   "metadata": {},
   "outputs": [],
   "source": [
    "def get_H(inputs, params, num_hiddens):\n",
    "    [W_xi, W_hi, b_i, W_xf, W_hf, b_f, W_xo, W_ho, b_o, W_xc, W_hc, b_c] = params[:12]\n",
    "    (H, C) = init_lstm_state(1, num_hiddens)\n",
    "    H_lt = torch.zeros((len(inputs), num_hiddens))\n",
    "    for i in range(len(inputs)):\n",
    "        X = inputs[i]\n",
    "        I = torch.sigmoid((X @ W_xi) + (H @ W_hi) + b_i)\n",
    "        F = torch.sigmoid((X @ W_xf) + (H @ W_hf) + b_f)\n",
    "        O = torch.sigmoid((X @ W_xo) + (H @ W_ho) + b_o)\n",
    "\n",
    "        C_tilda = torch.tanh((X @ W_xc) + (H @ W_hc) + b_c)\n",
    "        C = F * C + I * C_tilda \n",
    "        H = O * torch.relu(C)\n",
    "        \n",
    "        H_lt[i] = H\n",
    "    \n",
    "    return H_lt"
   ]
  },
  {
   "cell_type": "code",
   "execution_count": 14,
   "id": "d2388d06",
   "metadata": {},
   "outputs": [],
   "source": [
    "def predict_sensors(net, inputs, targets, unit_index): \n",
    "    fig = plt.figure(figsize=(15,5))\n",
    "    state = net.begin_state(1)\n",
    "    y_preb = net(inputs, state, unit_index)\n",
    "    \n",
    "    for i in range(6):\n",
    "        plt.subplot(2, 3, 1+i)\n",
    "        plt.plot(targets[8:,i], 'o', alpha=0.5)\n",
    "        plt.plot(y_preb[8:,i].detach().numpy(), color='#FF8D57', linewidth = 3)\n",
    "        \n",
    "    plt.subplots_adjust(wspace = 0.25, hspace = 0.35)\n",
    "    plt.show()"
   ]
  },
  {
   "cell_type": "code",
   "execution_count": 15,
   "id": "df5ae65a",
   "metadata": {},
   "outputs": [],
   "source": [
    "def predict_sensors2(targets, unit_index, valid_len): \n",
    "    fig = plt.figure(figsize=(12,4))\n",
    "    tmp_Psi = Psi[:valid_len]\n",
    "    y_pred = tmp_Psi @ gamma[unit_index].T\n",
    "    \n",
    "    for i in range(6):\n",
    "        plt.subplot(2, 3, 1+i)\n",
    "        t1 = np.arange(len(targets))\n",
    "        t2 = np.arange(len(tmp_Psi))\n",
    "        plt.plot(t1[8:], targets[8:,i], '.', markersize=3)\n",
    "        plt.plot(t2[8:], y_pred[8:,i], color='#FF8D57', linewidth = 3)\n",
    "        \n",
    "    plt.subplots_adjust(wspace = 0.25, hspace = 0.35)\n",
    "    plt.show()"
   ]
  },
  {
   "cell_type": "code",
   "execution_count": 16,
   "id": "d69e132f",
   "metadata": {},
   "outputs": [
    {
     "data": {
      "text/plain": [
       "((500, 3), (20, 6, 3))"
      ]
     },
     "execution_count": 16,
     "metadata": {},
     "output_type": "execute_result"
    }
   ],
   "source": [
    "# num_train = 20\n",
    "Psi = get_H(t, net.params, num_hiddens).detach().numpy()\n",
    "\n",
    "tmp_gamma = net.params[12].detach().numpy()\n",
    "gamma = np.zeros((num_train, num_sensors, num_hiddens))\n",
    "for i in range(num_train):\n",
    "    gamma[i] = tmp_gamma[i].T\n",
    "    \n",
    "Psi.shape, gamma.shape"
   ]
  },
  {
   "cell_type": "code",
   "execution_count": 17,
   "id": "8a31d070",
   "metadata": {},
   "outputs": [],
   "source": [
    "np.save('Psi-20-1.npy',Psi)\n",
    "np.save('gamma.npy',gamma)"
   ]
  },
  {
   "cell_type": "code",
   "execution_count": 18,
   "id": "9a039c8e",
   "metadata": {},
   "outputs": [
    {
     "data": {
      "text/plain": [
       "array([0.09367524, 0.06543641, 0.06773338, 0.06035353, 0.09372196,\n",
       "       0.08276461])"
      ]
     },
     "execution_count": 18,
     "metadata": {},
     "output_type": "execute_result"
    }
   ],
   "source": [
    "# 计算传感器噪声方差\n",
    "sigma2 = np.zeros(num_sensors)\n",
    "\n",
    "for i in range(num_sensors):\n",
    "    tmp_sigma2 = 0\n",
    "    tmp_m = 0\n",
    "    for j in range(num_train):\n",
    "        gamma_j = gamma[j,i]\n",
    "        sensor_data = train_data[j][:,i].detach().numpy()\n",
    "        tmp_n = lengths[j]\n",
    "        \n",
    "        tmp_Psi = Psi[:tmp_n]\n",
    "        sensor_path = tmp_Psi @ gamma_j\n",
    "        \n",
    "        tmp_sigma2 += np.power(sensor_path - sensor_data, 2).sum()\n",
    "        tmp_m += (tmp_n - 6)\n",
    "        \n",
    "    sigma2[i] = tmp_sigma2/tmp_m\n",
    "sigma2"
   ]
  },
  {
   "cell_type": "code",
   "execution_count": 19,
   "id": "00e86651",
   "metadata": {},
   "outputs": [
    {
     "data": {
      "text/plain": [
       "((18, 18), (18, 1))"
      ]
     },
     "execution_count": 19,
     "metadata": {},
     "output_type": "execute_result"
    }
   ],
   "source": [
    "# gamma的均值和协方差\n",
    "cov_list = []\n",
    "for i in range(num_sensors):\n",
    "    data_i = gamma[:,i]\n",
    "    cov_i = np.cov(data_i.T)\n",
    "    cov_list.append(cov_i)\n",
    "    \n",
    "cov = block_diag(cov_list[0],cov_list[1],cov_list[2],cov_list[3],cov_list[4],cov_list[5])\n",
    "# cov = np.cov(gamma.reshape(num_train,-1).T)\n",
    "mu = gamma.reshape(num_train,-1).mean(axis=0).reshape(-1,1)\n",
    "\n",
    "cov.shape, mu.shape"
   ]
  },
  {
   "cell_type": "code",
   "execution_count": 20,
   "id": "4ab7cb79",
   "metadata": {},
   "outputs": [],
   "source": [
    "# num_train = 100\n",
    "\n",
    "mu_i = np.zeros((num_train, 3*num_sensors,1)) \n",
    "cov_i = np.zeros((num_train,3*num_sensors,3*num_sensors))\n",
    "\n",
    "for i in range(num_train):\n",
    "    tmp_n = lengths[i]\n",
    "    tmp_psi = Psi[:tmp_n]\n",
    "    \n",
    "    Psi_i = block_diag(tmp_psi,tmp_psi,tmp_psi,tmp_psi,tmp_psi,tmp_psi)\n",
    "    # 构建块对角矩阵\n",
    "    omega_i = np.diag(np.repeat(sigma2.reshape(-1,1),tmp_n,axis=1).flatten())\n",
    "\n",
    "    L_i = train_data[i].detach().numpy().T.flatten().reshape(-1,1) # n_i*1\n",
    "    \n",
    "    # 计算后验分布\n",
    "    tmp_cov = inv(Psi_i.T @ inv(omega_i) @ Psi_i + inv(cov))\n",
    "    tmp_mu = tmp_cov @ (Psi_i.T @ inv(omega_i) @ L_i + inv(cov) @ mu)\n",
    "    \n",
    "    mu_i[i] = tmp_mu\n",
    "    cov_i[i] = tmp_cov"
   ]
  },
  {
   "cell_type": "code",
   "execution_count": 20,
   "id": "8ca325ac",
   "metadata": {},
   "outputs": [],
   "source": [
    "np.save('cov.npy',cov_i)\n",
    "np.save('mu.npy',mu_i)"
   ]
  },
  {
   "cell_type": "code",
   "execution_count": 21,
   "id": "82f1e6d7",
   "metadata": {},
   "outputs": [
    {
     "data": {
      "image/png": "[encoded data removed]",
      "text/plain": [
       "<Figure size 1080x360 with 6 Axes>"
      ]
     },
     "metadata": {
      "needs_background": "light"
     },
     "output_type": "display_data"
    }
   ],
   "source": [
    "unit_index = 1\n",
    "predict_sensors(net, T[unit_index], train_data[unit_index], unit_index)"
   ]
  },
  {
   "cell_type": "code",
   "execution_count": 22,
   "id": "e675c663",
   "metadata": {},
   "outputs": [],
   "source": [
    "lam, Th = 0.1, 0.8 # 大于Th的时间点被认为是异常点\n",
    "OCI = []\n",
    "    \n",
    "for i in range(num_train):\n",
    "    unit_i = selected_unit[i] \n",
    "    L = df_train[df_train['Unit'] == unit_i+1].iloc[:,2:].values\n",
    "    tmp_n, q = lengths[i], 2\n",
    "    tmp_Psi = Psi[:tmp_n]\n",
    "\n",
    "    # 初始化\n",
    "    H = tmp_Psi @ inv(tmp_Psi.T @ tmp_Psi + 1e-6*np.diag(np.ones(tmp_Psi.shape[1]))) @ tmp_Psi.T\n",
    "    X = np.eye(H.shape[0]) - H\n",
    "\n",
    "\n",
    "    Y = X @ L\n",
    "    B = inv(X.T @ X + lam*np.eye(X.shape[0])) @ X.T @ Y\n",
    "    R = np.zeros(B.shape[0])\n",
    "\n",
    "    OCI.append(np.abs(B))"
   ]
  },
  {
   "cell_type": "code",
   "execution_count": 23,
   "id": "8c5650dc",
   "metadata": {},
   "outputs": [],
   "source": [
    "unit_index = 1\n",
    " \n",
    "R = OCI[unit_index]\n",
    "obv_index1 = [] # 每一个传感器的异常值\n",
    "obv_index2 = []\n",
    "\n",
    "for i in range(6):\n",
    "    obv_index1.append(np.where(R[:,i]>0.7))\n",
    "    obv_index2.append(np.where(R[:,i]<=0.7))"
   ]
  },
  {
   "cell_type": "code",
   "execution_count": 24,
   "id": "d4fb44db",
   "metadata": {},
   "outputs": [],
   "source": [
    "K = 200\n",
    "gamma_samples = np.random.multivariate_normal(mu_i[unit_index].flatten(), cov_i[unit_index], size=K)  \n",
    "\n",
    "sensor_path = np.zeros((K,320,6))\n",
    "for k in range(K):\n",
    "    sensor_path[k] = Psi[:320] @ gamma_samples[k].reshape(num_sensors,-1).T"
   ]
  },
  {
   "cell_type": "code",
   "execution_count": 25,
   "id": "775a6c2a",
   "metadata": {},
   "outputs": [
    {
     "ename": "NameError",
     "evalue": "name 'targets' is not defined",
     "output_type": "error",
     "traceback": [
      "\u001b[0;31m---------------------------------------------------------------------------\u001b[0m",
      "\u001b[0;31mNameError\u001b[0m                                 Traceback (most recent call last)",
      "Input \u001b[0;32mIn [25]\u001b[0m, in \u001b[0;36m<cell line: 1>\u001b[0;34m()\u001b[0m\n\u001b[0;32m----> 1\u001b[0m \u001b[43mtargets\u001b[49m\u001b[38;5;241m.\u001b[39mshape\n",
      "\u001b[0;31mNameError\u001b[0m: name 'targets' is not defined"
     ]
    }
   ],
   "source": [
    "targets.shape"
   ]
  },
  {
   "cell_type": "code",
   "execution_count": null,
   "id": "acc43db0",
   "metadata": {},
   "outputs": [],
   "source": [
    "targets, valid_len = train_data[unit_index].detach().numpy(), lengths[unit_index]\n",
    "\n",
    "fig = plt.figure(figsize=(12,5))\n",
    "tmp_Psi = Psi[:valid_len]\n",
    "y_pred = tmp_Psi @ gamma[unit_index].T\n",
    "\n",
    "sensor_index = ['T24','T50','Ps30','phi','BPR','W32']\n",
    "\n",
    "for i in range(6):\n",
    "    plt.subplot(2, 3, 1+i)\n",
    "    t1 = np.arange(len(tmp_Psi))\n",
    "    t2 = np.arange(320)\n",
    "    plt.plot(obv_index1[i], targets[obv_index1[i],i], 'x', color='#FF8D57', markersize=7, label='Outlier')\n",
    "    plt.plot(obv_index2[i], targets[obv_index2[i],i], 'o', color='#B3D495', markersize=5, alpha=0.5, label='Selected sensor signal')\n",
    "    plt.title(sensor_index[i])\n",
    "    \n",
    "    # plt.plot(t2[5:], sensor_path[5:,i], color='#3274A1', linewidth = 0.2) # #AECCDB    \n",
    "    plt.plot(t2[5:], sensor_path.mean(axis=0)[5:,i], color='#3274A1', linewidth = 2.0)\n",
    "    plt.fill_between(t2[5:],np.percentile(sensor_path[:,5:,i],2.5,axis=0), np.percentile(sensor_path[:,5:,i],97.5,axis=0), alpha=0.25)\n",
    "\n",
    "plt.subplots_adjust(wspace = 0.25, hspace = 0.35)\n",
    "num1, num2, num3, num4 = -2.6, -0.63, 3, 0\n",
    "# plt.legend(bbox_to_anchor=(num1, num2), loc=num3, borderaxespad=num4)\n",
    "plt.text(-310,-3.8,'Time',fontsize=17)\n",
    "plt.text(-970,0.5,'Signal',fontsize=17, rotation=90)\n",
    "plt.savefig('sensor path&outlier3.png', bbox_inches='tight', dpi=2500, transparent=True)\n",
    "plt.show()"
   ]
  },
  {
   "cell_type": "code",
   "execution_count": null,
   "id": "0c597c99",
   "metadata": {},
   "outputs": [],
   "source": [
    "fig = plt.figure(figsize=(12,8))\n",
    "ax = plt.axes()\n",
    "\n",
    "i = 4\n",
    "t1 = np.arange(len(tmp_Psi))\n",
    "t2 = np.arange(320)\n",
    "plt.plot(obv_index2, targets[obv_index2,i], 'o', color='#B3D495', markersize=13, alpha=0.9, label='Sensor data')\n",
    "plt.plot(obv_index1, targets[obv_index1,i], 'x', color='#FF8D57', markersize=15, label='Discordant observation')\n",
    "# plt.title(sensor_index[i])\n",
    "\n",
    "# plt.plot(t2[5:], sensor_path[5:,i], color='#3274A1', linewidth = 0.2) # #AECCDB    \n",
    "plt.plot(t2[5:], sensor_path.mean(axis=0)[5:,i], color='#3274A1', linewidth = 5.0, label='Sensor path')\n",
    "# plt.fill_between(t2[5:],np.percentile(sensor_path[:,5:,i],2.5,axis=0), np.percentile(sensor_path[:,5:,i],97.5,axis=0), alpha=0.25)\n",
    "plt.xlabel('Time',fontsize=25)\n",
    "plt.ylabel('Signal',fontsize=25)\n",
    "plt.legend(fontsize='xx-large')\n",
    "ax.set_ylim(-1.8, 3.2)\n",
    "# plt.savefig('incident_parameter,png', bbox_inches='tight', dpi=1500, transparent=True)\n",
    "plt.show()"
   ]
  },
  {
   "cell_type": "code",
   "execution_count": 274,
   "id": "006bc506",
   "metadata": {},
   "outputs": [
    {
     "name": "stdout",
     "output_type": "stream",
     "text": [
      "epoch:1/300\n",
      "Loss: 0.04309741035103798\n",
      "epoch:11/300\n",
      "Loss: 0.04321466013789177\n",
      "epoch:21/300\n",
      "Loss: 0.04312267154455185\n",
      "epoch:31/300\n",
      "Loss: 0.04310167580842972\n",
      "epoch:41/300\n",
      "Loss: 0.04309956356883049\n",
      "epoch:51/300\n",
      "Loss: 0.04309754818677902\n",
      "epoch:61/300\n",
      "Loss: 0.043093569576740265\n",
      "epoch:71/300\n",
      "Loss: 0.0430925078690052\n",
      "epoch:81/300\n",
      "Loss: 0.04309191554784775\n",
      "epoch:91/300\n",
      "Loss: 0.043091196566820145\n",
      "epoch:101/300\n",
      "Loss: 0.04309052973985672\n",
      "epoch:111/300\n",
      "Loss: 0.043089888989925385\n",
      "epoch:121/300\n",
      "Loss: 0.04308926314115524\n",
      "epoch:131/300\n",
      "Loss: 0.04308862239122391\n",
      "epoch:141/300\n",
      "Loss: 0.04308798164129257\n",
      "epoch:151/300\n",
      "Loss: 0.04308732599020004\n",
      "epoch:161/300\n",
      "Loss: 0.043086666613817215\n",
      "epoch:171/300\n",
      "Loss: 0.04308599606156349\n",
      "epoch:181/300\n",
      "Loss: 0.043085310608148575\n",
      "epoch:191/300\n",
      "Loss: 0.04308461770415306\n",
      "epoch:201/300\n",
      "Loss: 0.04308391362428665\n",
      "epoch:211/300\n",
      "Loss: 0.04308320954442024\n",
      "epoch:221/300\n",
      "Loss: 0.04308248683810234\n",
      "epoch:231/300\n",
      "Loss: 0.043081771582365036\n",
      "epoch:241/300\n",
      "Loss: 0.043081045150756836\n",
      "epoch:251/300\n",
      "Loss: 0.043080318719148636\n",
      "epoch:261/300\n",
      "Loss: 0.04307958856225014\n",
      "epoch:271/300\n",
      "Loss: 0.04307885840535164\n",
      "epoch:281/300\n",
      "Loss: 0.04307810217142105\n",
      "epoch:291/300\n",
      "Loss: 0.04307733476161957\n",
      "finished training!\n"
     ]
    }
   ],
   "source": [
    "num_epochs, lr = 300, 0.001\n",
    "batch_size, step_size = 1, 1e-6\n",
    "loss_lt = train(net, lr, num_epochs, T, train_data, batch_size, model1, step_size, valid_obv)"
   ]
  },
  {
   "cell_type": "code",
   "execution_count": 73,
   "id": "846ba905",
   "metadata": {},
   "outputs": [],
   "source": [
    "torch.save(net.params, 'LSTM-SVGD-Pre(20)-1.pth')"
   ]
  },
  {
   "cell_type": "code",
   "execution_count": 26,
   "id": "0653c663",
   "metadata": {},
   "outputs": [
    {
     "data": {
      "text/plain": [
       "((500, 3), (20, 6, 3))"
      ]
     },
     "execution_count": 26,
     "metadata": {},
     "output_type": "execute_result"
    }
   ],
   "source": [
    "t = [torch.tensor([i/500.0]) for i in range(500)]\n",
    "\n",
    "Psi = get_H(t, net.params, num_hiddens).detach().numpy()\n",
    "\n",
    "tmp_gamma = net.params[12].detach().numpy()\n",
    "gamma = np.zeros((num_train, num_sensors, num_hiddens))\n",
    "for i in range(num_train):\n",
    "    gamma[i] = tmp_gamma[i].T\n",
    "    \n",
    "Psi.shape, gamma.shape"
   ]
  },
  {
   "cell_type": "code",
   "execution_count": 27,
   "id": "62178b3b",
   "metadata": {},
   "outputs": [
    {
     "data": {
      "image/png": "[encoded data removed]",
      "text/plain": [
       "<Figure size 864x216 with 3 Axes>"
      ]
     },
     "metadata": {
      "needs_background": "light"
     },
     "output_type": "display_data"
    }
   ],
   "source": [
    "fig = plt.figure(figsize=(12,3))\n",
    "\n",
    "for i in range(3):\n",
    "    plt.subplot(1, 3, 1+i)\n",
    "    plt.plot(Psi[20:,i], color='#FF8D57', linewidth = 3)\n",
    "\n",
    "plt.subplots_adjust(wspace = 0.25, hspace = 0.35)\n",
    "plt.show()"
   ]
  },
  {
   "cell_type": "code",
   "execution_count": 28,
   "id": "60c29456",
   "metadata": {},
   "outputs": [
    {
     "data": {
      "text/plain": [
       "array([0.09367524, 0.06543641, 0.06773338, 0.06035353, 0.09372196,\n",
       "       0.08276461])"
      ]
     },
     "execution_count": 28,
     "metadata": {},
     "output_type": "execute_result"
    }
   ],
   "source": [
    "# 计算传感器噪声方差\n",
    "sigma2 = np.zeros(num_sensors)\n",
    "\n",
    "for i in range(num_sensors):\n",
    "    tmp_sigma2 = 0\n",
    "    tmp_m = 0\n",
    "    for j in range(num_train):\n",
    "        gamma_j = gamma[j,i]\n",
    "        sensor_data = train_data[j][:,i].detach().numpy()\n",
    "        tmp_n = lengths[j]\n",
    "        \n",
    "        tmp_Psi = Psi[:tmp_n]\n",
    "        sensor_path = tmp_Psi @ gamma_j\n",
    "        \n",
    "        tmp_sigma2 += np.power(sensor_path - sensor_data, 2).sum()\n",
    "        tmp_m += (tmp_n - 6)\n",
    "        \n",
    "    sigma2[i] = tmp_sigma2/tmp_m\n",
    "sigma2"
   ]
  },
  {
   "cell_type": "code",
   "execution_count": 29,
   "id": "214c69a1",
   "metadata": {},
   "outputs": [
    {
     "data": {
      "text/plain": [
       "((18, 18), (18, 1))"
      ]
     },
     "execution_count": 29,
     "metadata": {},
     "output_type": "execute_result"
    }
   ],
   "source": [
    "# gamma的均值和协方差\n",
    "cov_list = []\n",
    "for i in range(num_sensors):\n",
    "    data_i = gamma[:,i]\n",
    "    cov_i = np.cov(data_i.T)\n",
    "    cov_list.append(cov_i)\n",
    "    \n",
    "cov = block_diag(cov_list[0],cov_list[1],cov_list[2],cov_list[3],cov_list[4],cov_list[5])\n",
    "# cov = np.cov(gamma.reshape(num_train,-1).T)\n",
    "mu = gamma.reshape(num_train,-1).mean(axis=0).reshape(-1,1)\n",
    "\n",
    "cov.shape, mu.shape"
   ]
  },
  {
   "cell_type": "code",
   "execution_count": 37,
   "id": "a81aa87e",
   "metadata": {},
   "outputs": [],
   "source": [
    "lam, Th = 0.1, 1.20 # 大于Th的时间点被认为是异常点\n",
    "valid_obv = []\n",
    "    \n",
    "for i in range(num_train):\n",
    "    unit_i = selected_unit[i] \n",
    "    L = df_train[df_train['Unit'] == unit_i+1].iloc[:,2:].values\n",
    "    tmp_n, q = lengths[i], 2\n",
    "    tmp_Psi = Psi[:tmp_n]\n",
    "\n",
    "    # 初始化\n",
    "    H = tmp_Psi @ inv(tmp_Psi.T @ tmp_Psi + 1e-6*np.diag(np.ones(tmp_Psi.shape[1]))) @ tmp_Psi.T\n",
    "    X = np.eye(H.shape[0]) - H\n",
    "\n",
    "\n",
    "    Y = X @ L\n",
    "    gamma = inv(X.T @ X + lam*np.eye(X.shape[0])) @ X.T @ Y\n",
    "    \n",
    "    obv_index = []\n",
    "    for j in range(num_sensors):\n",
    "        obv_index.append(np.where(np.abs(gamma)[:,j]>Th))\n",
    "        \n",
    "    valid_obv.append(np.delete(np.arange(gamma.shape[0]),np.unique(np.hstack(obv_index))))"
   ]
  },
  {
   "cell_type": "code",
   "execution_count": 40,
   "id": "ca376715",
   "metadata": {},
   "outputs": [],
   "source": [
    "# num_train = 100\n",
    "\n",
    "mu_i = np.zeros((num_train, 3*num_sensors,1)) \n",
    "cov_i = np.zeros((num_train,3*num_sensors,3*num_sensors))\n",
    "\n",
    "for i in range(num_train):\n",
    "    tmp_n = lengths[i]\n",
    "    obv_list = valid_obv[i]\n",
    "    tmp_psi = Psi[:tmp_n][obv_list]\n",
    "    \n",
    "    Psi_i = block_diag(tmp_psi,tmp_psi,tmp_psi,tmp_psi,tmp_psi,tmp_psi)\n",
    "    # 构建块对角矩阵\n",
    "    omega_i = np.diag(np.repeat(sigma2.reshape(-1,1),obv_list.shape[0],axis=1).flatten())\n",
    "\n",
    "    L_i = train_data[i][obv_list].detach().numpy().T.flatten().reshape(-1,1) # n_i*1\n",
    "    \n",
    "    # 计算后验分布\n",
    "    tmp_cov = inv(Psi_i.T @ inv(omega_i) @ Psi_i + inv(cov))\n",
    "    tmp_mu = tmp_cov @ (Psi_i.T @ inv(omega_i) @ L_i + inv(cov) @ mu)\n",
    "    \n",
    "    mu_i[i] = tmp_mu\n",
    "    cov_i[i] = tmp_cov"
   ]
  },
  {
   "cell_type": "code",
   "execution_count": 41,
   "id": "b63d794b",
   "metadata": {},
   "outputs": [
    {
     "data": {
      "text/plain": [
       "((500, 160, 6), (500, 160))"
      ]
     },
     "execution_count": 41,
     "metadata": {},
     "output_type": "execute_result"
    }
   ],
   "source": [
    "# 设置特征值-logistic regression\n",
    "N, delta, K = 80, 1, 25 # 超参数\n",
    "inputs = np.zeros((K*num_train,2*N,num_sensors))\n",
    "\n",
    "for i in range(num_train):\n",
    "    M = lengths[i]\n",
    "    gamma_samples = np.random.multivariate_normal(mu_i[i].flatten(), cov_i[i], size=K)  \n",
    "    \n",
    "    tt = torch.zeros(2*N, dtype=torch.long)\n",
    "    for j in range(2*N):\n",
    "        tt[j] = M + (j-N+1) * delta\n",
    "        \n",
    "    for k in range(K):\n",
    "        inputs[i*K+k] = (Psi @ gamma_samples[k].reshape(num_sensors,-1).T)[tt]\n",
    "        \n",
    "# 设置标签值\n",
    "labels = np.hstack((np.zeros(N), np.ones(N))).reshape(1,-1)\n",
    "# print(label.shape) (1,160)\n",
    "labels = np.repeat(labels, K*num_train, axis=0)\n",
    "\n",
    "inputs.shape, labels.shape"
   ]
  },
  {
   "cell_type": "code",
   "execution_count": 42,
   "id": "d9546af4",
   "metadata": {},
   "outputs": [
    {
     "data": {
      "text/plain": [
       "LogisticRegression(C=0.01, max_iter=1000, solver='sag')"
      ]
     },
     "execution_count": 42,
     "metadata": {},
     "output_type": "execute_result"
    }
   ],
   "source": [
    "from sklearn.linear_model import LogisticRegression\n",
    "X_train = inputs.reshape(-1,num_sensors)\n",
    "Y_train = labels.reshape(-1,1)\n",
    "X_train.shape, Y_train.shape\n",
    "\n",
    "model2 = LogisticRegression(penalty=\"l2\", C=0.01, solver=\"sag\", max_iter=1000) #创建模型\n",
    "model2.fit(X_train, Y_train.ravel()) #训练"
   ]
  },
  {
   "cell_type": "code",
   "execution_count": 43,
   "id": "3c7af31b",
   "metadata": {},
   "outputs": [
    {
     "data": {
      "image/png": "[encoded data removed]",
      "text/plain": [
       "<Figure size 864x288 with 6 Axes>"
      ]
     },
     "metadata": {
      "needs_background": "light"
     },
     "output_type": "display_data"
    }
   ],
   "source": [
    "index = 10\n",
    "sensor_data = train_data[index]\n",
    "\n",
    "M = lengths[index]\n",
    "t = torch.zeros(2*N, dtype=torch.long)\n",
    "for j in range(2*N):\n",
    "    t[j] = M + (j-N+1) * delta\n",
    "\n",
    "fig = plt.figure(figsize=(12,4))\n",
    "for i in range(6):\n",
    "    plt.subplot(2, 3, 1+i)\n",
    "    plt.plot(sensor_data[:,i], 'o', alpha=0.5)\n",
    "    for k in range(K):\n",
    "        sensor_path = inputs[index*K + k]\n",
    "        plt.plot(t, sensor_path[:,i], color='#FF8D57', linewidth = 0.2)"
   ]
  },
  {
   "cell_type": "code",
   "execution_count": 44,
   "id": "ddfdc29b",
   "metadata": {},
   "outputs": [
    {
     "data": {
      "text/plain": [
       "((100, 18, 1), (100, 18, 18))"
      ]
     },
     "execution_count": 44,
     "metadata": {},
     "output_type": "execute_result"
    }
   ],
   "source": [
    "df_test = pd.read_csv('test_data.csv')\n",
    "num_test = df_test['Unit'].max()      # 测试数据数量\n",
    "\n",
    "test_data = []\n",
    "test_lengths = []\n",
    "for i in range(num_test):\n",
    "    Y = np.array(df_test[df_test['Unit']==i+1].iloc[:,2:]) \n",
    "    test_data.append(Y)\n",
    "    test_lengths.append(len(Y))\n",
    "\n",
    "lam, Th = 0.1, 0.62  \n",
    "    \n",
    "updated_data = []\n",
    "for i in range(num_test):\n",
    "    L = test_data[i]\n",
    "    tmp_n, q = test_lengths[i], 2\n",
    "    tmp_Psi = Psi[:tmp_n]\n",
    "    \n",
    "    # B = (inv(tmp_Psi.T @ tmp_Psi) @ tmp_Psi.T @ L).T\n",
    "\n",
    "    # 初始化\n",
    "    H = tmp_Psi @ inv(tmp_Psi.T @ tmp_Psi + 1e-6*np.diag(np.ones(3))) @ tmp_Psi.T\n",
    "    X = np.eye(H.shape[0]) - H\n",
    "\n",
    "    for epoch in range(5):\n",
    "        Y = X @ L\n",
    "        gamma = inv(X.T @ X + lam*np.eye(X.shape[0])) @ X.T @ Y\n",
    "        R = np.zeros(gamma.shape[0])\n",
    "\n",
    "        for j in range(gamma.shape[0]):\n",
    "            tmp_gamma = gamma[j].reshape(1,-1)\n",
    "            R[j] = tmp_gamma @ tmp_gamma.T\n",
    "\n",
    "        # update\n",
    "        L[np.where(R>Th)] = L[np.where(R>Th)] - gamma[np.where(R>Th)] # corrected\n",
    "     \n",
    "    updated_data.append(L)\n",
    "    \n",
    "mu_j = np.zeros((num_test, num_hiddens*num_sensors,1)) \n",
    "cov_j = np.zeros((num_test,num_hiddens*num_sensors,num_hiddens*num_sensors))\n",
    "\n",
    "for i in range(num_test):\n",
    "    tmp_n = test_lengths[i]\n",
    "    tmp_psi = Psi[:tmp_n]\n",
    "    \n",
    "    Psi_i = block_diag(tmp_psi,tmp_psi,tmp_psi,tmp_psi,tmp_psi,tmp_psi)\n",
    "    # 构建块对角矩阵\n",
    "    omega_i = np.diag(np.repeat(sigma2.reshape(-1,1),tmp_n,axis=1).flatten())\n",
    "\n",
    "    L_i = updated_data[i].T.flatten().reshape(-1,1) # n_i*1\n",
    "    \n",
    "    # 计算后验分布\n",
    "    tmp_cov = inv(Psi_i.T @ inv(omega_i) @ Psi_i + inv(cov))\n",
    "    tmp_mu = tmp_cov @ (Psi_i.T @ inv(omega_i) @ L_i + inv(cov) @ mu)\n",
    "    \n",
    "    mu_j[i] = tmp_mu\n",
    "    cov_j[i] = tmp_cov\n",
    "\n",
    "mu_j.shape, cov_j.shape"
   ]
  },
  {
   "cell_type": "code",
   "execution_count": 45,
   "id": "139a9642",
   "metadata": {},
   "outputs": [],
   "source": [
    "unit_index, sensor_index = 2, 4 # 1,3,8 \n",
    "lam, Th = 0.1, 0.6 # 大于Th的时间点被认为是异常点\n",
    "\n",
    "L = test_data[unit_index]\n",
    "tmp_n, q = test_lengths[unit_index], 2\n",
    "tmp_Psi = Psi[:tmp_n]\n",
    "\n",
    "H = tmp_Psi @ inv(tmp_Psi.T @ tmp_Psi + 1e-6*np.diag(np.ones(tmp_Psi.shape[1]))) @ tmp_Psi.T\n",
    "X = np.eye(H.shape[0]) - H\n",
    "\n",
    "Y = X @ L\n",
    "gamma_i = inv(X.T @ X + lam*np.eye(X.shape[0])) @ X.T @ Y\n",
    "R = np.abs(gamma_i[:,sensor_index])"
   ]
  },
  {
   "cell_type": "code",
   "execution_count": 36,
   "id": "5e81353b",
   "metadata": {},
   "outputs": [
    {
     "data": {
      "image/png": "[encoded data removed]",
      "text/plain": [
       "<Figure size 432x288 with 1 Axes>"
      ]
     },
     "metadata": {},
     "output_type": "display_data"
    }
   ],
   "source": [
    "fig = plt.figure(figsize=(6,4))\n",
    "ax = plt.axes()\n",
    "\n",
    "x = np.arange(tmp_n)\n",
    "plt.plot(x, L[:,sensor_index], 'o', color='#B0DEC3', markersize=9, label='Selected sensor signal')\n",
    "# #AECCDB, #46A3CA #497FB9\n",
    "\n",
    "# 去掉边框\n",
    "ax.spines['right'].set_visible(False)\n",
    "ax.spines['top'].set_visible(False)\n",
    "ax.spines['left'].set_visible(False)\n",
    "ax.spines['bottom'].set_visible(False)\n",
    "\n",
    "#ax.spines['left'].set_linewidth('1.0')\n",
    "#ax.spines['bottom'].set_linewidth('1.0')\n",
    "\n",
    "# 去掉x,y轴\n",
    "ax.set_xticks([])\n",
    "ax.set_yticks([])\n",
    "\n",
    "# 设置x轴显示范围\n",
    "# ax.set_xlim(-2.0,164)\n",
    "ax.set_ylim(-1.6, 2.0)\n",
    "\n",
    "\n",
    "# plt.savefig('unit4-1', bbox_inches='tight', dpi=1500, transparent=True)\n",
    "plt.show()"
   ]
  },
  {
   "cell_type": "code",
   "execution_count": 47,
   "id": "3e890996",
   "metadata": {},
   "outputs": [],
   "source": [
    "obv_index1 = np.array(np.where(R>Th)).reshape(-1)\n",
    "obv_index2 = np.array(np.where(R<=Th)).reshape(-1)"
   ]
  },
  {
   "cell_type": "code",
   "execution_count": 49,
   "id": "0f57343f",
   "metadata": {},
   "outputs": [
    {
     "data": {
      "image/png": "[encoded data removed]",
      "text/plain": [
       "<Figure size 432x288 with 1 Axes>"
      ]
     },
     "metadata": {},
     "output_type": "display_data"
    }
   ],
   "source": [
    "fig = plt.figure(figsize=(6,4))\n",
    "ax = plt.axes()\n",
    "\n",
    "plt.plot(obv_index1, L[obv_index1,sensor_index], 'X', color='r', markersize=15, label='Outlier')\n",
    "plt.plot(obv_index2, L[obv_index2,sensor_index], 'o', color='#B0DEC3', markersize=9, label='Selected sensor signal')\n",
    "# #AECCDB, #46A3CA #497FB9\n",
    "\n",
    "# 去掉边框\n",
    "ax.spines['right'].set_visible(False)\n",
    "ax.spines['top'].set_visible(False)\n",
    "ax.spines['left'].set_visible(False)\n",
    "ax.spines['bottom'].set_visible(False)\n",
    "\n",
    "\n",
    "#ax.spines['left'].set_linewidth('1.0')\n",
    "#ax.spines['bottom'].set_linewidth('1.0')\n",
    "\n",
    "# 去掉x,y轴\n",
    "ax.set_xticks([])\n",
    "ax.set_yticks([])\n",
    "\n",
    "# 设置x轴显示范围\n",
    "# ax.set_xlim(-2.0,164)\n",
    "ax.set_ylim(-1.6, 2.0)\n",
    "\n",
    "\n",
    "plt.savefig('unit4-2', bbox_inches='tight', dpi=1500, transparent=True)\n",
    "plt.show()"
   ]
  },
  {
   "cell_type": "code",
   "execution_count": 58,
   "id": "a0071e22",
   "metadata": {},
   "outputs": [],
   "source": [
    "K = 200\n",
    "gamma_samples = np.random.multivariate_normal(mu_j[unit_index].flatten(), cov_j[unit_index], size=K)  \n",
    "\n",
    "sensor_path = np.zeros((K,320,6))\n",
    "for k in range(K):\n",
    "    sensor_path[k] = Psi[:320] @ gamma_samples[k].reshape(num_sensors,-1).T"
   ]
  },
  {
   "cell_type": "code",
   "execution_count": 60,
   "id": "54b384e7",
   "metadata": {},
   "outputs": [
    {
     "data": {
      "image/png": "[encoded data removed]",
      "text/plain": [
       "<Figure size 432x288 with 1 Axes>"
      ]
     },
     "metadata": {},
     "output_type": "display_data"
    }
   ],
   "source": [
    "fig = plt.figure(figsize=(6,4))\n",
    "ax = plt.axes()\n",
    "\n",
    "plt.plot(t2[5:], sensor_path.mean(axis=0)[5:,sensor_index], color='#B0DEC3', linewidth = 3.0)\n",
    "plt.fill_between(t2[5:],np.percentile(sensor_path[:,5:,sensor_index],2.5,axis=0), np.percentile(sensor_path[:,5:,sensor_index],97.5,axis=0), color='#B0DEC3', alpha=0.25)\n",
    "\n",
    "# 去掉边框\n",
    "ax.spines['right'].set_visible(False)\n",
    "ax.spines['top'].set_visible(False)\n",
    "ax.spines['left'].set_visible(False)\n",
    "ax.spines['bottom'].set_visible(False)\n",
    "\n",
    "\n",
    "#ax.spines['left'].set_linewidth('1.0')\n",
    "#ax.spines['bottom'].set_linewidth('1.0')\n",
    "\n",
    "# 去掉x,y轴\n",
    "ax.set_xticks([])\n",
    "ax.set_yticks([])\n",
    "\n",
    "# 设置x轴显示范围\n",
    "# ax.set_xlim(-2.0,164)\n",
    "ax.set_ylim(-1.6, 6)\n",
    "\n",
    "\n",
    "plt.savefig('unit4-4', bbox_inches='tight', dpi=1500, transparent=True)\n",
    "plt.show()"
   ]
  },
  {
   "cell_type": "code",
   "execution_count": 64,
   "id": "82ab49d5",
   "metadata": {},
   "outputs": [
    {
     "data": {
      "text/plain": [
       "(6,)"
      ]
     },
     "execution_count": 64,
     "metadata": {},
     "output_type": "execute_result"
    }
   ],
   "source": [
    "x_i.shape"
   ]
  },
  {
   "cell_type": "code",
   "execution_count": 65,
   "id": "07695579",
   "metadata": {},
   "outputs": [],
   "source": [
    "K = 100 # 超参数\n",
    "X_test = np.zeros((K, Psi.shape[0], num_sensors))\n",
    "\n",
    "gamma_samples = np.random.multivariate_normal(mu_j[unit_index].flatten(), cov_j[unit_index], size=K)    \n",
    "for k in range(K):\n",
    "    X_test[k] = Psi @ gamma_samples[k].reshape(num_sensors,-1).T\n",
    "\n",
    "p = np.zeros((K, Psi.shape[0]))\n",
    "for k in range(K):\n",
    "    x_i = X_test[k]\n",
    "    p[k] = model2.predict_proba(x_i)[:,1]\n",
    "pp = p.mean(axis=0)\n",
    "tmp_n = test_lengths[i]\n",
    "p_T = (pp - pp[tmp_n])/(1 - pp[tmp_n])"
   ]
  },
  {
   "cell_type": "code",
   "execution_count": 80,
   "id": "82be89f3",
   "metadata": {},
   "outputs": [
    {
     "data": {
      "image/png": "[encoded data removed]",
      "text/plain": [
       "<Figure size 432x288 with 1 Axes>"
      ]
     },
     "metadata": {},
     "output_type": "display_data"
    }
   ],
   "source": [
    "fig = plt.figure(figsize=(6,4))\n",
    "ax = plt.axes()\n",
    "\n",
    "x = np.arange(300)\n",
    "plt.plot(x,pp[:300])\n",
    "plt.plot(np.where(p_T > 0.5)[0][0],pp[np.where(p_T > 0.5)[0][0]],'*',markersize=12)\n",
    "\n",
    "# 去掉边框\n",
    "ax.spines['right'].set_visible(False)\n",
    "ax.spines['top'].set_visible(False)\n",
    "ax.spines['left'].set_visible(False)\n",
    "ax.spines['bottom'].set_visible(False)\n",
    "\n",
    "\n",
    "#ax.spines['left'].set_linewidth('1.0')\n",
    "#ax.spines['bottom'].set_linewidth('1.0')\n",
    "\n",
    "# 去掉x,y轴\n",
    "ax.set_xticks([])\n",
    "ax.set_yticks([])\n",
    "\n",
    "plt.savefig('CDF of RUL.png', bbox_inches='tight', dpi=1500, transparent=True)\n",
    "plt.show()"
   ]
  },
  {
   "cell_type": "code",
   "execution_count": 66,
   "id": "e6d8dbeb",
   "metadata": {},
   "outputs": [
    {
     "data": {
      "text/plain": [
       "array([-7.27364954, -7.27412297, -7.27412575, -7.27412152, -7.27411737,\n",
       "       -7.27411362, -7.27411018, -7.27410699, -7.27410399, -7.27410112,\n",
       "       -7.27409835, -7.27409564, -7.27409296, -7.2740903 , -7.27408763,\n",
       "       -7.27408495, -7.27408224, -7.27407948, -7.27407668, -7.27407382,\n",
       "       -7.27407088, -7.27406788, -7.2740648 , -7.27406163, -7.27405836,\n",
       "       -7.274055  , -7.27405153, -7.27404796, -7.27404426, -7.27404044,\n",
       "       -7.27403649, -7.27403241, -7.27402818, -7.2740238 , -7.27401926,\n",
       "       -7.27401455, -7.27400967, -7.27400461, -7.27399936, -7.2739939 ,\n",
       "       -7.27398824, -7.27398235, -7.27397623, -7.27396986, -7.27396324,\n",
       "       -7.27395634, -7.27394917, -7.27394169, -7.2739339 , -7.27392578,\n",
       "       -7.2739173 , -7.27390847, -7.27389924, -7.27388961, -7.27387954,\n",
       "       -7.27386902, -7.27385802, -7.27384651, -7.27383446, -7.27382185,\n",
       "       -7.27380864, -7.27379479, -7.27378027, -7.27376503, -7.27374904,\n",
       "       -7.27373224, -7.2737146 , -7.27369604, -7.27367653, -7.27365599,\n",
       "       -7.27363436, -7.27361157, -7.27358754, -7.2735622 , -7.27353545,\n",
       "       -7.2735072 , -7.27347735, -7.27344579, -7.27341239, -7.27337704,\n",
       "       -7.27333958, -7.27329987, -7.27325775, -7.27321303, -7.27316553,\n",
       "       -7.27311504, -7.27306132, -7.27300415, -7.27294323, -7.27287829,\n",
       "       -7.27280901, -7.27273503, -7.27265598, -7.27257145, -7.27248097,\n",
       "       -7.27238406, -7.27228016, -7.27216869, -7.27204898, -7.27192032,\n",
       "       -7.27178192, -7.2716329 , -7.27147231, -7.27129909, -7.27111207,\n",
       "       -7.27090996, -7.27069134, -7.27045462, -7.27019807, -7.26991973,\n",
       "       -7.26961745, -7.26928884, -7.26893125, -7.26854169, -7.26811688,\n",
       "       -7.26765311, -7.26714628, -7.26659178, -7.26598446, -7.26531852,\n",
       "       -7.26458753, -7.26378421, -7.26290036, -7.26192683, -7.26085326,\n",
       "       -7.25966799, -7.2583579 , -7.25690811, -7.25530182, -7.25352006,\n",
       "       -7.25154133, -7.24934131, -7.24689232, -7.24416298, -7.24111774,\n",
       "       -7.23771607, -7.23391204, -7.22965325, -7.22488009, -7.21952491,\n",
       "       -7.21351041, -7.20674869, -7.19914001, -7.19057058, -7.1809111 ,\n",
       "       -7.17001492, -7.15771563, -7.14382493, -7.12812986, -7.11039131,\n",
       "       -7.09033973, -7.06767387, -7.04205848, -7.01312267, -6.98045721,\n",
       "       -6.94361526, -6.90211288, -6.85542995, -6.8030134 , -6.74428466,\n",
       "       -6.67864288, -6.60547697, -6.52417425, -6.43413677, -6.33479094,\n",
       "       -6.22560749, -6.10611921, -5.97593296, -5.83476314, -5.68243349,\n",
       "       -5.51890972, -5.34430298, -5.15890925, -4.96319389, -4.75780735,\n",
       "       -4.54359171, -4.32156359, -4.09290107, -3.85892357, -3.62105645,\n",
       "       -3.38080251, -3.13969747, -2.89928462, -2.66105866, -2.42644375,\n",
       "       -2.19676597, -1.97322353, -1.75687372, -1.5486094 , -1.3491695 ,\n",
       "       -1.15913342, -0.97892217, -0.80880612, -0.64892805, -0.49929694,\n",
       "       -0.35981686, -0.23029995, -0.11047109,  0.        ,  0.10150396,\n",
       "        0.19446734,  0.27934162,  0.35659961,  0.42672062,  0.49018668,\n",
       "        0.54747485,  0.59905135,  0.64536996,  0.68686428,  0.7239517 ,\n",
       "        0.75702507,  0.78645513,  0.81258957,  0.83575185,  0.85624121,\n",
       "        0.874334  ,  0.89028249,  0.90431884,  0.91665277,  0.92747549,\n",
       "        0.93695868,  0.94525752,  0.95251054,  0.95884222,  0.96436313,\n",
       "        0.96917196,  0.97335605,  0.97699302,  0.98015121,  0.9828911 ,\n",
       "        0.98526591,  0.98732238,  0.98910156,  0.99063946,  0.99196767,\n",
       "        0.99311377,  0.99410184,  0.99495292,  0.99568534,  0.9963151 ,\n",
       "        0.99685608,  0.99732038,  0.9977185 ,  0.99805952,  0.99835137,\n",
       "        0.99860088,  0.99881398,  0.99899579,  0.99915075,  0.99928267,\n",
       "        0.99939485,  0.99949015,  0.99957099,  0.99963951,  0.99969749,\n",
       "        0.99974651,  0.99978789,  0.99982277,  0.99985214,  0.99987684,\n",
       "        0.99989757,  0.99991495,  0.99992949,  0.99994165,  0.99995179,\n",
       "        0.99996024,  0.99996727,  0.9999731 ,  0.99997794,  0.99998194,\n",
       "        0.99998524,  0.99998797,  0.99999021,  0.99999205,  0.99999356,\n",
       "        0.99999479,  0.99999579,  0.99999661,  0.99999728,  0.99999782,\n",
       "        0.99999826,  0.99999861,  0.99999889,  0.99999912,  0.9999993 ,\n",
       "        0.99999945,  0.99999957,  0.99999966,  0.99999973,  0.99999979,\n",
       "        0.99999984,  0.99999987,  0.9999999 ,  0.99999992,  0.99999994,\n",
       "        0.99999995,  0.99999996,  0.99999997,  0.99999998,  0.99999998,\n",
       "        0.99999999,  0.99999999,  0.99999999,  0.99999999,  1.        ,\n",
       "        1.        ,  1.        ,  1.        ,  1.        ,  1.        ,\n",
       "        1.        ,  1.        ,  1.        ,  1.        ,  1.        ,\n",
       "        1.        ,  1.        ,  1.        ,  1.        ,  1.        ,\n",
       "        1.        ,  1.        ,  1.        ,  1.        ,  1.        ,\n",
       "        1.        ,  1.        ,  1.        ,  1.        ,  1.        ,\n",
       "        1.        ,  1.        ,  1.        ,  1.        ,  1.        ,\n",
       "        1.        ,  1.        ,  1.        ,  1.        ,  1.        ,\n",
       "        1.        ,  1.        ,  1.        ,  1.        ,  1.        ,\n",
       "        1.        ,  1.        ,  1.        ,  1.        ,  1.        ,\n",
       "        1.        ,  1.        ,  1.        ,  1.        ,  1.        ,\n",
       "        1.        ,  1.        ,  1.        ,  1.        ,  1.        ,\n",
       "        1.        ,  1.        ,  1.        ,  1.        ,  1.        ,\n",
       "        1.        ,  1.        ,  1.        ,  1.        ,  1.        ,\n",
       "        1.        ,  1.        ,  1.        ,  1.        ,  1.        ,\n",
       "        1.        ,  1.        ,  1.        ,  1.        ,  1.        ,\n",
       "        1.        ,  1.        ,  1.        ,  1.        ,  1.        ,\n",
       "        1.        ,  1.        ,  1.        ,  1.        ,  1.        ,\n",
       "        1.        ,  1.        ,  1.        ,  1.        ,  1.        ,\n",
       "        1.        ,  1.        ,  1.        ,  1.        ,  1.        ,\n",
       "        1.        ,  1.        ,  1.        ,  1.        ,  1.        ,\n",
       "        1.        ,  1.        ,  1.        ,  1.        ,  1.        ,\n",
       "        1.        ,  1.        ,  1.        ,  1.        ,  1.        ,\n",
       "        1.        ,  1.        ,  1.        ,  1.        ,  1.        ,\n",
       "        1.        ,  1.        ,  1.        ,  1.        ,  1.        ,\n",
       "        1.        ,  1.        ,  1.        ,  1.        ,  1.        ,\n",
       "        1.        ,  1.        ,  1.        ,  1.        ,  1.        ,\n",
       "        1.        ,  1.        ,  1.        ,  1.        ,  1.        ,\n",
       "        1.        ,  1.        ,  1.        ,  1.        ,  1.        ,\n",
       "        1.        ,  1.        ,  1.        ,  1.        ,  1.        ,\n",
       "        1.        ,  1.        ,  1.        ,  1.        ,  1.        ,\n",
       "        1.        ,  1.        ,  1.        ,  1.        ,  1.        ,\n",
       "        1.        ,  1.        ,  1.        ,  1.        ,  1.        ,\n",
       "        1.        ,  1.        ,  1.        ,  1.        ,  1.        ,\n",
       "        1.        ,  1.        ,  1.        ,  1.        ,  1.        ,\n",
       "        1.        ,  1.        ,  1.        ,  1.        ,  1.        ,\n",
       "        1.        ,  1.        ,  1.        ,  1.        ,  1.        ,\n",
       "        1.        ,  1.        ,  1.        ,  1.        ,  1.        ,\n",
       "        1.        ,  1.        ,  1.        ,  1.        ,  1.        ,\n",
       "        1.        ,  1.        ,  1.        ,  1.        ,  1.        ])"
      ]
     },
     "execution_count": 66,
     "metadata": {},
     "output_type": "execute_result"
    }
   ],
   "source": [
    "p_T"
   ]
  },
  {
   "cell_type": "code",
   "execution_count": 34,
   "id": "8ecda4c3",
   "metadata": {},
   "outputs": [],
   "source": [
    "np.save('test_mu_svgd.npy',mu_j)\n",
    "np.save('test_cov_svgd.npy',cov_j)"
   ]
  },
  {
   "cell_type": "code",
   "execution_count": 270,
   "id": "9257cbb7",
   "metadata": {},
   "outputs": [
    {
     "data": {
      "image/png": "[encoded data removed]",
      "text/plain": [
       "<Figure size 864x288 with 6 Axes>"
      ]
     },
     "metadata": {
      "needs_background": "light"
     },
     "output_type": "display_data"
    }
   ],
   "source": [
    "index, K, valid_len = 88, 25, 300\n",
    "sensor_data = test_data[index]\n",
    "tmp_Psi = Psi[:valid_len]\n",
    "gamma_samples = np.random.multivariate_normal(mu_j[index].flatten(), cov_j[index], size=K)\n",
    "\n",
    "fig = plt.figure(figsize=(12,4))\n",
    "\n",
    "for i in range(6):\n",
    "    plt.subplot(2, 3, 1+i)\n",
    "    plt.plot(sensor_data[:,i], 'o', alpha = 0.5)\n",
    "    for k in range(K):\n",
    "        sensor_path = tmp_Psi @ gamma_samples[k].reshape(num_sensors,-1).T\n",
    "        plt.plot(sensor_path[:,i], color='#FF8D57', linewidth=0.3)\n",
    "        \n",
    "plt.subplots_adjust(wspace = 0.25, hspace = 0.4)\n",
    "plt.show()"
   ]
  },
  {
   "cell_type": "code",
   "execution_count": 33,
   "id": "64eb4ac0",
   "metadata": {},
   "outputs": [],
   "source": [
    "def RMSE(true_RUL, pred_RUL):\n",
    "    d = true_RUL - pred_RUL\n",
    "    return np.sqrt(np.power(d,2).mean())\n",
    "\n",
    "def score(true_RUL, pred_RUL):\n",
    "    d = pred_RUL - true_RUL\n",
    "    n = len(true_RUL)\n",
    "    score = np.zeros(n)\n",
    "    for i in range(n):\n",
    "        d_i = d[i]\n",
    "        if d_i >= 0:\n",
    "            score[i] = np.exp(d_i/10) - 1\n",
    "        elif d_i < 0:\n",
    "            score[i] = np.exp(-d_i/13) - 1\n",
    "    return score.sum()"
   ]
  },
  {
   "cell_type": "code",
   "execution_count": 271,
   "id": "2383f87f",
   "metadata": {},
   "outputs": [],
   "source": [
    "results1 = np.zeros(50)\n",
    "results2 = np.zeros(50)\n",
    "results3 = np.zeros(50)\n",
    "\n",
    "for l in range(50):\n",
    "    # 设置特征值\n",
    "    K = 100 # 超参数\n",
    "    X_test = np.zeros((num_test, K, Psi.shape[0], num_sensors))\n",
    "    for i in range(num_test):\n",
    "        gamma_samples = np.random.multivariate_normal(mu_j[i].flatten(), cov_j[i], size=K)    \n",
    "        for k in range(K):\n",
    "            X_test[i,k] = Psi @ gamma_samples[k].reshape(num_sensors,-1).T\n",
    "            \n",
    "    pred_RUL = np.zeros(num_test)\n",
    "\n",
    "    for i in range(num_test):\n",
    "        p = np.zeros((K, Psi.shape[0]))\n",
    "        for k in range(K):\n",
    "            x_i = X_test[i,k]\n",
    "            p[k] = model2.predict_proba(x_i)[:,1]\n",
    "        pp = p.mean(axis=0)\n",
    "        tmp_n = test_lengths[i]\n",
    "        p_T = (pp - pp[tmp_n])/(1 - pp[tmp_n])\n",
    "        pred_RUL[i] = np.where(p_T > 0.5)[0][0] - tmp_n\n",
    "        \n",
    "    df_RUL = pd.read_csv('RUL_FD001.txt',names=['true_RUL'])\n",
    "    df_RUL['pred_RUL'] = pred_RUL\n",
    "    df_RUL['lifetime'] = df_RUL['true_RUL'] + test_lengths\n",
    "    df_RUL['error'] = np.abs(df_RUL['true_RUL']-df_RUL['pred_RUL'])/df_RUL['lifetime']\n",
    "    results1[l] = df_RUL['error'].mean()\n",
    "    results2[l] = RMSE(df_RUL['true_RUL'], df_RUL['pred_RUL'])\n",
    "    results3[l] = score(df_RUL['true_RUL'], df_RUL['pred_RUL'])"
   ]
  },
  {
   "cell_type": "code",
   "execution_count": 272,
   "id": "a120627b",
   "metadata": {},
   "outputs": [
    {
     "data": {
      "text/plain": [
       "(0.06422479301729409, 0.0006174969416445025)"
      ]
     },
     "execution_count": 272,
     "metadata": {},
     "output_type": "execute_result"
    }
   ],
   "source": [
    "results1.mean(), results1.std()"
   ]
  },
  {
   "cell_type": "code",
   "execution_count": 273,
   "id": "14d70174",
   "metadata": {},
   "outputs": [
    {
     "data": {
      "text/plain": [
       "(17.517207450645795, 0.1607579890379671)"
      ]
     },
     "execution_count": 273,
     "metadata": {},
     "output_type": "execute_result"
    }
   ],
   "source": [
    "results2.mean(), results2.std()"
   ]
  },
  {
   "cell_type": "code",
   "execution_count": 37,
   "id": "65809358",
   "metadata": {},
   "outputs": [
    {
     "data": {
      "text/plain": [
       "(3014965998.407418, 199321549.87686387)"
      ]
     },
     "execution_count": 37,
     "metadata": {},
     "output_type": "execute_result"
    }
   ],
   "source": [
    "results3.mean(), results3.std()"
   ]
  },
  {
   "cell_type": "code",
   "execution_count": 51,
   "id": "c682bee4",
   "metadata": {},
   "outputs": [
    {
     "data": {
      "text/html": [
       "<div>\n",
       "<style scoped>\n",
       "    .dataframe tbody tr th:only-of-type {\n",
       "        vertical-align: middle;\n",
       "    }\n",
       "\n",
       "    .dataframe tbody tr th {\n",
       "        vertical-align: top;\n",
       "    }\n",
       "\n",
       "    .dataframe thead th {\n",
       "        text-align: right;\n",
       "    }\n",
       "</style>\n",
       "<table border=\"1\" class=\"dataframe\">\n",
       "  <thead>\n",
       "    <tr style=\"text-align: right;\">\n",
       "      <th></th>\n",
       "      <th>true_RUL</th>\n",
       "      <th>pred_RUL</th>\n",
       "      <th>lifetime</th>\n",
       "      <th>error</th>\n",
       "    </tr>\n",
       "  </thead>\n",
       "  <tbody>\n",
       "    <tr>\n",
       "      <th>0</th>\n",
       "      <td>112</td>\n",
       "      <td>144.0</td>\n",
       "      <td>143</td>\n",
       "      <td>0.223776</td>\n",
       "    </tr>\n",
       "    <tr>\n",
       "      <th>1</th>\n",
       "      <td>98</td>\n",
       "      <td>122.0</td>\n",
       "      <td>147</td>\n",
       "      <td>0.163265</td>\n",
       "    </tr>\n",
       "    <tr>\n",
       "      <th>2</th>\n",
       "      <td>69</td>\n",
       "      <td>55.0</td>\n",
       "      <td>195</td>\n",
       "      <td>0.071795</td>\n",
       "    </tr>\n",
       "    <tr>\n",
       "      <th>3</th>\n",
       "      <td>82</td>\n",
       "      <td>76.0</td>\n",
       "      <td>188</td>\n",
       "      <td>0.031915</td>\n",
       "    </tr>\n",
       "    <tr>\n",
       "      <th>4</th>\n",
       "      <td>91</td>\n",
       "      <td>96.0</td>\n",
       "      <td>189</td>\n",
       "      <td>0.026455</td>\n",
       "    </tr>\n",
       "    <tr>\n",
       "      <th>5</th>\n",
       "      <td>93</td>\n",
       "      <td>118.0</td>\n",
       "      <td>198</td>\n",
       "      <td>0.126263</td>\n",
       "    </tr>\n",
       "    <tr>\n",
       "      <th>6</th>\n",
       "      <td>91</td>\n",
       "      <td>96.0</td>\n",
       "      <td>251</td>\n",
       "      <td>0.019920</td>\n",
       "    </tr>\n",
       "    <tr>\n",
       "      <th>7</th>\n",
       "      <td>95</td>\n",
       "      <td>101.0</td>\n",
       "      <td>261</td>\n",
       "      <td>0.022989</td>\n",
       "    </tr>\n",
       "    <tr>\n",
       "      <th>8</th>\n",
       "      <td>111</td>\n",
       "      <td>146.0</td>\n",
       "      <td>166</td>\n",
       "      <td>0.210843</td>\n",
       "    </tr>\n",
       "    <tr>\n",
       "      <th>9</th>\n",
       "      <td>96</td>\n",
       "      <td>77.0</td>\n",
       "      <td>288</td>\n",
       "      <td>0.065972</td>\n",
       "    </tr>\n",
       "  </tbody>\n",
       "</table>\n",
       "</div>"
      ],
      "text/plain": [
       "   true_RUL  pred_RUL  lifetime     error\n",
       "0       112     144.0       143  0.223776\n",
       "1        98     122.0       147  0.163265\n",
       "2        69      55.0       195  0.071795\n",
       "3        82      76.0       188  0.031915\n",
       "4        91      96.0       189  0.026455\n",
       "5        93     118.0       198  0.126263\n",
       "6        91      96.0       251  0.019920\n",
       "7        95     101.0       261  0.022989\n",
       "8       111     146.0       166  0.210843\n",
       "9        96      77.0       288  0.065972"
      ]
     },
     "execution_count": 51,
     "metadata": {},
     "output_type": "execute_result"
    }
   ],
   "source": [
    "df_RUL.head(10)"
   ]
  }
 ],
 "metadata": {
  "kernelspec": {
   "display_name": "Python 3 (ipykernel)",
   "language": "python",
   "name": "python3"
  },
  "language_info": {
   "codemirror_mode": {
    "name": "ipython",
    "version": 3
   },
   "file_extension": ".py",
   "mimetype": "text/x-python",
   "name": "python",
   "nbconvert_exporter": "python",
   "pygments_lexer": "ipython3",
   "version": "3.9.12"
  }
 },
 "nbformat": 4,
 "nbformat_minor": 5
}
