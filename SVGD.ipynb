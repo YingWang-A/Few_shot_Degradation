{
 "cells": [
  {
   "cell_type": "code",
   "execution_count": 7,
   "id": "1c350c08",
   "metadata": {},
   "outputs": [],
   "source": [
    "import numpy as np\n",
    "from scipy.spatial.distance import pdist, squareform\n",
    "import numpy.matlib as nm"
   ]
  },
  {
   "cell_type": "code",
   "execution_count": 4,
   "id": "c0d0936f",
   "metadata": {},
   "outputs": [],
   "source": [
    "class SVGD():\n",
    "\n",
    "    def __init__(self):\n",
    "        pass\n",
    "    \n",
    "    def svgd_kernel(self, theta, h = -1):\n",
    "        sq_dist = pdist(theta)\n",
    "        pairwise_dists = squareform(sq_dist)**2  # 转化为距离矩阵\n",
    "        if h < 0: # if h < 0, using median trick\n",
    "            h = np.median(pairwise_dists)  \n",
    "            h = np.sqrt(0.5 * h / np.log(theta.shape[0]+1))\n",
    "\n",
    "        # compute the rbf kernel\n",
    "        Kxy = np.exp( -pairwise_dists / h**2 / 2)\n",
    "\n",
    "        dxkxy = -np.matmul(Kxy, theta)\n",
    "        sumkxy = np.sum(Kxy, axis=1)\n",
    "        for i in range(theta.shape[1]):\n",
    "            dxkxy[:, i] = dxkxy[:,i] + np.multiply(theta[:,i],sumkxy)\n",
    "        dxkxy = dxkxy / (h**2)\n",
    "        return (Kxy, dxkxy)\n",
    "    \n",
    " \n",
    "    def update(self, x0, lnprob, n_iter = 1000, stepsize = 1e-3, bandwidth = -1, alpha = 0.9, debug = False):\n",
    "        # Check input\n",
    "        if x0 is None or lnprob is None:\n",
    "            raise ValueError('x0 or lnprob cannot be None!')\n",
    "        \n",
    "        theta = np.copy(x0) \n",
    "        \n",
    "        # adagrad with momentum\n",
    "        fudge_factor = 1e-6\n",
    "        historical_grad = 0\n",
    "        for iter in range(n_iter):\n",
    "            if debug and (iter+1) % 1000 == 0:\n",
    "                print('iter ' + str(iter+1))\n",
    "            \n",
    "            lnpgrad = lnprob(theta)\n",
    "            # calculating the kernel matrix\n",
    "            kxy, dxkxy = self.svgd_kernel(theta, h = -1)  \n",
    "            grad_theta = (np.matmul(kxy, lnpgrad) + dxkxy) / x0.shape[0]  \n",
    "            \n",
    "            # adagrad \n",
    "            if iter == 0:\n",
    "                historical_grad = historical_grad + grad_theta ** 2\n",
    "            else:\n",
    "                historical_grad = alpha * historical_grad + (1 - alpha) * (grad_theta ** 2)\n",
    "            adj_grad = np.divide(grad_theta, fudge_factor+np.sqrt(historical_grad))\n",
    "            theta = theta + stepsize * adj_grad \n",
    "            \n",
    "        return theta"
   ]
  },
  {
   "cell_type": "code",
   "execution_count": 8,
   "id": "f825706b",
   "metadata": {},
   "outputs": [
    {
     "name": "stdout",
     "output_type": "stream",
     "text": [
      "ground truth:  [-0.6871  0.801 ]\n",
      "svgd:  [-0.6879661   0.79851612]\n"
     ]
    }
   ],
   "source": [
    "# 多元正态分布\n",
    "class MVN:\n",
    "    def __init__(self, mu, A):\n",
    "        self.mu = mu\n",
    "        self.A = A # 协方差的逆矩阵\n",
    "    \n",
    "    def dlnprob(self, theta):\n",
    "        return -1*np.matmul(theta-nm.repmat(self.mu, theta.shape[0], 1), self.A)\n",
    "    \n",
    "if __name__ == '__main__':\n",
    "    A = np.array([[0.2260,0.1652],[0.1652,0.6779]])\n",
    "    mu = np.array([-0.6871,0.8010])\n",
    "    \n",
    "    model = MVN(mu, A)\n",
    "    \n",
    "    x0 = np.random.normal(0,1, [10,2]);\n",
    "    theta = SVGD().update(x0, model.dlnprob, n_iter=1000, stepsize=0.01)\n",
    "    \n",
    "    print(\"ground truth: \", mu)\n",
    "    print(\"svgd: \", np.mean(theta,axis=0))"
   ]
  },
  {
   "cell_type": "code",
   "execution_count": 23,
   "id": "ceeabb7c",
   "metadata": {},
   "outputs": [
    {
     "data": {
      "text/plain": [
       "(40, 7, 3)"
      ]
     },
     "execution_count": 23,
     "metadata": {},
     "output_type": "execute_result"
    }
   ],
   "source": [
    "gamma = np.load('gamma.npy')\n",
    "gamma.shape"
   ]
  },
  {
   "cell_type": "code",
   "execution_count": 24,
   "id": "37ee1b2f",
   "metadata": {},
   "outputs": [],
   "source": [
    "x0 = gamma.reshape(40,21)"
   ]
  },
  {
   "cell_type": "code",
   "execution_count": 25,
   "id": "5ea6f288",
   "metadata": {},
   "outputs": [],
   "source": [
    "A = np.diag(np.ones(21))\n",
    "mu = np.zeros(21)\n",
    "\n",
    "model = MVN(mu, A)\n",
    "\n",
    "# x0 = np.random.normal(0,1, [10,2]);\n",
    "theta = SVGD().update(x0, model.dlnprob, n_iter=1000, stepsize=0.01)"
   ]
  },
  {
   "cell_type": "code",
   "execution_count": 27,
   "id": "b518049f",
   "metadata": {},
   "outputs": [
    {
     "data": {
      "text/plain": [
       "(40, 21)"
      ]
     },
     "execution_count": 27,
     "metadata": {},
     "output_type": "execute_result"
    }
   ],
   "source": [
    "theta.shape"
   ]
  },
  {
   "cell_type": "code",
   "execution_count": 28,
   "id": "45ef4a29",
   "metadata": {},
   "outputs": [
    {
     "data": {
      "text/plain": [
       "array([-2.65748908e-03,  3.31524480e-03, -9.84353857e-04,  3.88034738e-04,\n",
       "       -1.12625615e-03, -1.02235103e-05, -3.87751725e-03, -6.36146787e-03,\n",
       "       -1.31551192e-03,  9.78806257e-04,  3.45802849e-03,  2.08531253e-03,\n",
       "       -7.15610405e-04,  1.98173440e-04,  3.37135675e-03,  4.36028007e-03,\n",
       "       -2.92087608e-03,  1.86053416e-03, -4.25770097e-03, -2.12042776e-03,\n",
       "        5.10532445e-03])"
      ]
     },
     "execution_count": 28,
     "metadata": {},
     "output_type": "execute_result"
    }
   ],
   "source": [
    "theta.mean(axis=0)"
   ]
  },
  {
   "cell_type": "code",
   "execution_count": 31,
   "id": "13a077ab",
   "metadata": {},
   "outputs": [
    {
     "data": {
      "text/plain": [
       "array([[ 0.16983038, -0.00749789,  0.00324275],\n",
       "       [-0.00749789,  0.16577164,  0.00060032],\n",
       "       [ 0.00324275,  0.00060032,  0.16763988]])"
      ]
     },
     "execution_count": 31,
     "metadata": {},
     "output_type": "execute_result"
    }
   ],
   "source": [
    "np.cov(theta.T)[:3,:3]"
   ]
  },
  {
   "cell_type": "code",
   "execution_count": 12,
   "id": "50078922",
   "metadata": {},
   "outputs": [
    {
     "data": {
      "text/plain": [
       "array([[-0.6871,  0.801 ],\n",
       "       [-0.6871,  0.801 ]])"
      ]
     },
     "execution_count": 12,
     "metadata": {},
     "output_type": "execute_result"
    }
   ],
   "source": [
    "nm.repmat(mu, 2, 1)"
   ]
  }
 ],
 "metadata": {
  "kernelspec": {
   "display_name": "Python 3 (ipykernel)",
   "language": "python",
   "name": "python3"
  },
  "language_info": {
   "codemirror_mode": {
    "name": "ipython",
    "version": 3
   },
   "file_extension": ".py",
   "mimetype": "text/x-python",
   "name": "python",
   "nbconvert_exporter": "python",
   "pygments_lexer": "ipython3",
   "version": "3.9.12"
  }
 },
 "nbformat": 4,
 "nbformat_minor": 5
}
