{
 "cells": [
  {
   "cell_type": "code",
   "execution_count": 1,
   "id": "208bdf65",
   "metadata": {},
   "outputs": [],
   "source": [
    "import math\n",
    "import torch\n",
    "import random\n",
    "from torch import nn\n",
    "from torch.autograd import Variable\n",
    "from torch.distributions import Normal\n",
    "from torch.utils.data import DataLoader\n",
    "from torch.nn.utils.rnn import pad_sequence\n",
    "from torch.utils.data import Dataset\n",
    "import torch.nn.functional as F\n",
    "import torch.optim as optim\n",
    "import matplotlib.pyplot as plt\n",
    "import seaborn as sns\n",
    "import numpy as np\n",
    "import pandas as pd\n",
    "%matplotlib inline\n",
    "import os\n",
    "os.environ[\"KMP_DUPLICATE_LIB_OK\"]  =  \"TRUE\""
   ]
  },
  {
   "cell_type": "code",
   "execution_count": 2,
   "id": "330e6c3c",
   "metadata": {},
   "outputs": [
    {
     "data": {
      "text/plain": [
       "((100, 160, 7), (100, 160))"
      ]
     },
     "execution_count": 2,
     "metadata": {},
     "output_type": "execute_result"
    }
   ],
   "source": [
    "inputs = np.load('inputs_svgd-3.npy')\n",
    "labels = np.load('labels_svgd-3.npy')\n",
    "inputs.shape, labels.shape"
   ]
  },
  {
   "cell_type": "markdown",
   "id": "2f57b088",
   "metadata": {},
   "source": [
    "### 利用RNN将传感器数据embedding"
   ]
  },
  {
   "cell_type": "code",
   "execution_count": 3,
   "id": "f0bf120c",
   "metadata": {},
   "outputs": [],
   "source": [
    "class RNNModel(nn.Module):\n",
    "    \"\"\"循环神经网络模型\"\"\"\n",
    "    def __init__(self, rnn_layer, num_inputs, num_outputs, **kwargs):\n",
    "        super(RNNModel, self).__init__(**kwargs)\n",
    "        self.rnn = rnn_layer\n",
    "        self.num_inputs, self.num_outputs = num_inputs, num_outputs\n",
    "        self.num_hiddens = self.rnn.hidden_size\n",
    "        # 如果RNN是双向的，‘num_direction'应该是2\n",
    "        if not self.rnn.bidirectional:\n",
    "            self.num_directions = 1\n",
    "            self.linear = nn.Linear(self.num_hiddens, self.num_outputs)\n",
    "        else:\n",
    "            self.num_directions = 2\n",
    "            self.linear = nn.Linear(self.num_hiddens * 2, self.num_outputs)\n",
    "            \n",
    "    def forward(self, inputs, state):\n",
    "        X = torch.tensor(np.swapaxes(inputs,0,1), dtype=torch.float)\n",
    "        Y, state = self.rnn(X, state)\n",
    "        output = self.linear(Y.reshape((-1, Y.shape[-1])))\n",
    "        return output, state\n",
    "    \n",
    "    def begin_state(self, batch_size=1):\n",
    "        if not isinstance(self.rnn, nn.LSTM):\n",
    "            # 'nn.GRU' 以张量作为隐藏状态\n",
    "            return torch.zeros((self.num_directions * self.rnn.num_layers,\n",
    "                               batch_size, self.num_hiddens))\n",
    "        else:\n",
    "            # 'nn.LSTM' 以张量作为隐藏状态\n",
    "            return (torch.zeros((\n",
    "            self.num_directions * self.rnn.num_layers,\n",
    "            batch_size, self.num_hiddens), device=device),\n",
    "            torch.zeros((\n",
    "                self.num_directions * self.rnn.num_layers,\n",
    "                batch_size, self.num_hiddens)))"
   ]
  },
  {
   "cell_type": "markdown",
   "id": "0e550b6d",
   "metadata": {},
   "source": [
    "### Prototypical networks"
   ]
  },
  {
   "cell_type": "code",
   "execution_count": 4,
   "id": "e60242bb",
   "metadata": {},
   "outputs": [],
   "source": [
    "class Protonets(object):\n",
    "    def __init__(self,num_tasks, num_steps, num_inputs, \n",
    "                 num_hiddens, num_outputs, batch_size, \n",
    "                 Ns, Nq, Nc):\n",
    "        self.Ns, self.Nq, self.Nc = Ns, Nq, Nc\n",
    "        self.num_tasks, self.num_hiddens, self.num_steps = num_tasks, num_hiddens, num_steps\n",
    "        self.num_outputs, self.batch_size = num_outputs, batch_size\n",
    "        \n",
    "        rnn_layer = nn.RNN(num_inputs ,num_hiddens)\n",
    "        self.model = RNNModel(rnn_layer, num_inputs, num_outputs)\n",
    "        \n",
    "    def eucli_distance(self, x, y):\n",
    "        \"\"\"计算两个tensor的欧氏距离\"\"\"\n",
    "        return torch.sqrt(torch.sum((x-y)*(x-y)))\n",
    "\n",
    "    def randomSample(self, D_set): \n",
    "        \"\"\"从一个task的数据中随机取出support set和query set\"\"\"\n",
    "        index_list = list(range(D_set.shape[0])) \n",
    "        random.shuffle(index_list)\n",
    "        support_data_index = index_list[:self.Ns]\n",
    "        query_data_index = index_list[self.Ns:self.Ns+self.Nq]\n",
    "\n",
    "        support_set = []\n",
    "        query_set = []\n",
    "\n",
    "        for i in support_data_index:\n",
    "            support_set.append(D_set[i])\n",
    "        for i in query_data_index:\n",
    "            query_set.append(D_set[i])\n",
    "\n",
    "        return support_set,query_set\n",
    "\n",
    "    def compute_center(self, support_set):\n",
    "        \"\"\"计算支持集对应的中心的点\"\"\"\n",
    "        center = 0\n",
    "        for i in range(self.Ns):\n",
    "            if i==0:\n",
    "                center = support_set[i]\n",
    "            else:\n",
    "                center += support_set[i]\n",
    "        return center/self.Ns\n",
    "\n",
    "    \n",
    "    def loss(self, center1, query_set1, center2, query_set2):\n",
    "        \"\"\"计算损失\"\"\"\n",
    "        loss = torch.zeros(2*self.Nq)\n",
    "        for i in range(self.Nq):          \n",
    "            #查询点与每个中心点逐个计算欧氏距离\n",
    "            dis1 = self.eucli_distance(query_set1[i], center1)\n",
    "            dis2 = self.eucli_distance(query_set1[i], center2)\n",
    "            loss[i] = dis1 + torch.log(torch.exp(-dis1)+torch.exp(-dis2))\n",
    "            \n",
    "        for i in range(self.Nq):          \n",
    "            #查询点与每个中心点逐个计算欧氏距离\n",
    "            dis1 = self.eucli_distance(query_set2[i], center2)\n",
    "            dis2 = self.eucli_distance(query_set2[i], center1)\n",
    "            loss[i+Nq] = dis1 + torch.log(torch.exp(-dis1)+torch.exp(-dis2))\n",
    "        \n",
    "        return loss.sum()/(2*self.Nq)  \n",
    "    \n",
    "    def train(self, inputs, labels, lr):\n",
    "        \"\"\"模型训练\"\"\"\n",
    "        task_index = list(range(self.num_tasks))\n",
    "        random.shuffle(task_index)\n",
    "        choss_task_indexs = task_index[:Nc]\n",
    "\n",
    "        tmp_inputs = inputs[choss_task_indexs]\n",
    "        tmp_labels = labels[choss_task_indexs]\n",
    "\n",
    "        state = torch.zeros((1, self.batch_size, self.num_hiddens))\n",
    "        outputs, state = self.model(tmp_inputs, state)\n",
    "        outputs = outputs.reshape(self.num_steps, self.batch_size, 3)\n",
    "\n",
    "        l = torch.zeros(self.Nc)\n",
    "        for i in range(self.Nc):\n",
    "            D_set = outputs[:,i]\n",
    "\n",
    "            D1_set = D_set[np.where(tmp_labels[i]==0)]\n",
    "            D2_set = D_set[np.where(tmp_labels[i]==1)]\n",
    "\n",
    "            #从D1_set随机取支持集和查询集\n",
    "            support_set1,query_set1 = self.randomSample(D1_set)\n",
    "            center1 = self.compute_center(support_set1)\n",
    "\n",
    "            support_set2,query_set2 = self.randomSample(D2_set)\n",
    "            center2 = self.compute_center(support_set2)\n",
    "\n",
    "            l[i] = self.loss(center1, query_set1, center2, query_set2)\n",
    "\n",
    "        updater = optim.Adam(self.model.parameters(), lr)\n",
    "        updater.zero_grad()\n",
    "        l.mean().backward()\n",
    "        updater.step()\n",
    "\n",
    "        return l.mean().item()\n",
    "    \n",
    "    def accuracy(self, test_inputs, test_labels):\n",
    "        \"\"\"输出测试误差\"\"\"\n",
    "        num_test_tasks = len(test_inputs)\n",
    "        state = torch.zeros((1, num_test_tasks, self.num_hiddens))\n",
    "        outputs, state = self.model(test_inputs, state)\n",
    "        outputs = outputs.reshape(self.num_steps, num_test_tasks, 3)\n",
    "        \n",
    "        cnt = 0\n",
    "        for i in range(num_test_tasks):\n",
    "            D_set = outputs[:,i]\n",
    "\n",
    "            D1_set = D_set[np.where(test_labels[i]==0)]\n",
    "            D2_set = D_set[np.where(test_labels[i]==1)]\n",
    "\n",
    "            #从D1_set随机取支持集和查询集\n",
    "            support_set1,query_set1 = self.randomSample(D1_set)\n",
    "            center1 = self.compute_center(support_set1)\n",
    "\n",
    "            support_set2,query_set2 = self.randomSample(D2_set)\n",
    "            center2 = self.compute_center(support_set2)\n",
    "            \n",
    "            for i in range(self.Nq):\n",
    "                if self.eucli_distance(query_set1[i], center1) >= self.eucli_distance(query_set1[i], center2):\n",
    "                    cnt += 1\n",
    "                if self.eucli_distance(query_set2[i], center2) >= self.eucli_distance(query_set2[i], center1):\n",
    "                    cnt += 1\n",
    "        \n",
    "        return (2*Nq*num_test_tasks-cnt)/(2*Nq*num_test_tasks)\n",
    "    \n",
    "    def record_protos(self, inputs, label):\n",
    "        \"\"\"记录历史任务的原型\"\"\"\n",
    "        protos = []\n",
    "        state = torch.zeros((1, self.num_tasks, self.num_hiddens))\n",
    "        outputs, state = self.model(inputs, state)\n",
    "        outputs = outputs.reshape(self.num_steps, self.num_tasks, 3)\n",
    "        \n",
    "        for i in range(self.num_tasks):\n",
    "            D_set = outputs[:,i]\n",
    "\n",
    "            D1_set = D_set[np.where(labels[i]==0)]\n",
    "            D2_set = D_set[np.where(labels[i]==1)]\n",
    "\n",
    "            #从D1_set随机取支持集和查询集\n",
    "            support_set1,query_set1 = self.randomSample(D1_set)\n",
    "            center1 = self.compute_center(support_set1)\n",
    "\n",
    "            support_set2,query_set2 = self.randomSample(D2_set)\n",
    "            center2 = self.compute_center(support_set2)\n",
    "            \n",
    "            protos.append([center1.detach().numpy(), center2.detach().numpy()])\n",
    "            \n",
    "        return protos"
   ]
  },
  {
   "cell_type": "code",
   "execution_count": 19,
   "id": "dffb02c3",
   "metadata": {},
   "outputs": [
    {
     "name": "stdout",
     "output_type": "stream",
     "text": [
      "0.9416666666666667\n"
     ]
    }
   ],
   "source": [
    "num_train = 40\n",
    "\n",
    "num_tasks, num_steps, num_inputs = inputs[:num_train].shape\n",
    "num_hiddens, num_outputs, batch_size = 20, 3, 5\n",
    "Ns, Nq, Nc = 75, 5, 5\n",
    "\n",
    "protonets = Protonets(num_tasks, num_steps, num_inputs, \n",
    "                     num_hiddens, num_outputs, batch_size, \n",
    "                    Ns, Nq, Nc)\n",
    "\n",
    "# protonets = torch.load('net(40-5).pth')\n",
    "print(protonets.accuracy(inputs[num_train:],labels[num_train:]))"
   ]
  },
  {
   "cell_type": "code",
   "execution_count": 25,
   "id": "1a0c5ddb",
   "metadata": {},
   "outputs": [
    {
     "name": "stdout",
     "output_type": "stream",
     "text": [
      "epoch 0, loss0.0293, accuracy0.9483\n",
      "epoch 100, loss0.0466, accuracy0.9583\n",
      "epoch 200, loss0.1091, accuracy0.9567\n",
      "finished training!\n"
     ]
    }
   ],
   "source": [
    "num_epochs = 300\n",
    "for epoch in range(num_epochs):\n",
    "    tmp_loss = protonets.train(inputs[:num_train], labels[:num_train], 0.001)\n",
    "    if epoch%100 == 0:\n",
    "        accuracy = protonets.accuracy(inputs[num_train:],labels[num_train:])\n",
    "        print(f'epoch {epoch}, loss{tmp_loss:.4f}, accuracy{accuracy:.4f}')\n",
    "print('finished training!')"
   ]
  },
  {
   "cell_type": "code",
   "execution_count": 26,
   "id": "f23e0a7d",
   "metadata": {},
   "outputs": [
    {
     "data": {
      "text/plain": [
       "((40, 2, 3), torch.Size([160, 40, 3]))"
      ]
     },
     "execution_count": 26,
     "metadata": {},
     "output_type": "execute_result"
    }
   ],
   "source": [
    "protos = protonets.record_protos(inputs[:num_train], labels[:num_train])\n",
    "protos = np.array(protos)\n",
    "\n",
    "state = torch.zeros((1, num_tasks, num_hiddens))\n",
    "outputs, state = protonets.model(inputs[:num_train], state)\n",
    "outputs = outputs.reshape(num_steps, num_tasks, 3)\n",
    "\n",
    "protos.shape, outputs.shape"
   ]
  },
  {
   "cell_type": "code",
   "execution_count": 27,
   "id": "7242fcca",
   "metadata": {},
   "outputs": [
    {
     "data": {
      "image/png": "[encoded data removed]",
      "text/plain": [
       "<Figure size 864x180 with 3 Axes>"
      ]
     },
     "metadata": {
      "needs_background": "light"
     },
     "output_type": "display_data"
    }
   ],
   "source": [
    "\"\"\"嵌入空间中特征分布\"\"\"\n",
    "fig = plt.figure(figsize=(12,2.5))\n",
    "for i in range(3):\n",
    "    plt.subplot(1, 3, 1+i)\n",
    "    plt.plot(outputs[:,2,i].detach().numpy())"
   ]
  },
  {
   "cell_type": "code",
   "execution_count": 35,
   "id": "cad243b0",
   "metadata": {},
   "outputs": [],
   "source": [
    "torch.save(protonets,'net(.pth')"
   ]
  },
  {
   "cell_type": "code",
   "execution_count": 28,
   "id": "08afd0fe",
   "metadata": {},
   "outputs": [
    {
     "data": {
      "image/png": "[encoded data removed]",
      "text/plain": [
       "<Figure size 432x288 with 1 Axes>"
      ]
     },
     "metadata": {
      "needs_background": "light"
     },
     "output_type": "display_data"
    }
   ],
   "source": [
    "\"\"\"历史任务原型的分布\"\"\"\n",
    "data = np.vstack((protos[:,0],protos[:,1]))\n",
    "df_tmp = pd.DataFrame(data[:,2],columns=[\"feature\"])\n",
    "df_tmp['center'] = '1'\n",
    "df_tmp.loc[num_train:,['center']] = '2'\n",
    "\n",
    "sns.histplot(data=df_tmp,x=\"feature\",hue=\"center\")\n",
    "plt.show()"
   ]
  },
  {
   "cell_type": "markdown",
   "id": "a0beda59",
   "metadata": {},
   "source": [
    "### 查看在测试数据上的embedding效果"
   ]
  },
  {
   "cell_type": "code",
   "execution_count": 29,
   "id": "d5635a86",
   "metadata": {},
   "outputs": [
    {
     "data": {
      "text/plain": [
       "((100, 21, 1), (100, 21, 21))"
      ]
     },
     "execution_count": 29,
     "metadata": {},
     "output_type": "execute_result"
    }
   ],
   "source": [
    "Psi = np.load('Psi_svgd-3.npy')\n",
    "\n",
    "mu_i = np.load('test_mu_svgd-3.npy')\n",
    "cov_i = np.load('test_cov_svgd-3.npy')\n",
    "\n",
    "\"\"\"记录测试数据长度\"\"\"\n",
    "df_test = pd.read_excel('test_data.xlsx')\n",
    "num_test = df_test['Unit'].max()\n",
    "length = []\n",
    "for i in range(num_test):\n",
    "    sensor_data = torch.tensor(df_test[df_test['Unit'] == i+1].iloc[:,2:].values, dtype = torch.float)  \n",
    "    length.append(len(sensor_data))\n",
    "    \n",
    "mu_i.shape, cov_i.shape"
   ]
  },
  {
   "cell_type": "code",
   "execution_count": 30,
   "id": "20e6a4bb",
   "metadata": {},
   "outputs": [],
   "source": [
    "index, K = 5, 100\n",
    "L = np.zeros((K, len(Psi), num_inputs))\n",
    "gamma_samples = np.random.multivariate_normal(mu_i[index].flatten(), cov_i[index], size=K)\n",
    "for k in range(K):\n",
    "    L[k] = Psi @ gamma_samples[k].reshape(num_inputs,-1).T\n",
    "\n",
    "state = torch.zeros((1, K, num_hiddens))\n",
    "outputs, state = protonets.model(L, state)\n",
    "outputs = outputs.reshape(len(Psi), K, 3)"
   ]
  },
  {
   "cell_type": "code",
   "execution_count": 31,
   "id": "1f6c3b63",
   "metadata": {},
   "outputs": [
    {
     "data": {
      "image/png": "[encoded data removed]",
      "text/plain": [
       "<Figure size 864x144 with 3 Axes>"
      ]
     },
     "metadata": {
      "needs_background": "light"
     },
     "output_type": "display_data"
    }
   ],
   "source": [
    "\"\"\"测试数据嵌入空间中特征分布\"\"\"\n",
    "fig = plt.figure(figsize=(12,2))\n",
    "for i in range(3):\n",
    "    plt.subplot(1, 3, 1+i)\n",
    "    for k in range(K):\n",
    "        plt.plot(outputs[:300,k,i].detach().numpy(), color='#FF8D57', linewidth=0.1)\n",
    "# plt.savefig('Embeddings.png',dpi=1000,bbox_inches =\"tight\")"
   ]
  },
  {
   "cell_type": "markdown",
   "id": "d48b1c51",
   "metadata": {},
   "source": [
    "## k-means聚类"
   ]
  },
  {
   "cell_type": "code",
   "execution_count": 32,
   "id": "59d9c790",
   "metadata": {},
   "outputs": [
    {
     "name": "stdout",
     "output_type": "stream",
     "text": [
      "61\n"
     ]
    }
   ],
   "source": [
    "index = 2\n",
    "gamma_samples = np.random.multivariate_normal(mu_i[index].flatten(), cov_i[index], size=K)\n",
    "L_list = np.zeros((K, len(Psi),num_inputs))\n",
    "for k in range(K):\n",
    "    L_list[k] = Psi @ gamma_samples[k].reshape(num_inputs,-1).T\n",
    "\n",
    "state = torch.zeros((1, K, num_hiddens))\n",
    "outputs, state = protonets.model(L_list, state)\n",
    "outputs = outputs.reshape(len(Psi), K, 3)\n",
    "\n",
    "p = np.zeros((K, Psi.shape[0]))\n",
    "for k in range(K):\n",
    "    L = outputs[:,k].detach().numpy()\n",
    "    centroids, cluster = kmeans(L, 2)\n",
    "\n",
    "    dis1 = np.sqrt(np.sum(((L - np.array(centroids[1]))**2),axis=1))\n",
    "    dis2 = np.sqrt(np.sum(((L - np.array(centroids[0]))**2),axis=1))\n",
    "\n",
    "    p[k] = (np.exp(-dis2)/(np.exp(-dis1)+(np.exp(-dis2)))) # 失效的概率\n",
    "\n",
    "pp = np.sum(p,axis=0)/K\n",
    "tmp_len = length[index]\n",
    "p_T = (pp - pp[tmp_len])/(1 - pp[tmp_len])\n",
    "\n",
    "print(np.where(p_T > 0.5)[0][0] - tmp_len)"
   ]
  },
  {
   "cell_type": "code",
   "execution_count": 33,
   "id": "188f3d67",
   "metadata": {},
   "outputs": [],
   "source": [
    "K = 100\n",
    "pred_RUL = np.zeros(num_test)\n",
    "for i in range(num_test):\n",
    "    gamma_samples = np.random.multivariate_normal(mu_i[i].flatten(), cov_i[i], size=K)\n",
    "    L_list = np.zeros((K, len(Psi), num_inputs))\n",
    "    for k in range(K):\n",
    "        L_list[k] = Psi @ gamma_samples[k].reshape(num_inputs,-1).T\n",
    "    \n",
    "    state = torch.zeros((1, K, num_hiddens))\n",
    "    outputs, state = protonets.model(L_list, state)\n",
    "    outputs = outputs.reshape(len(Psi), K, 3)\n",
    "    \n",
    "    p = np.zeros((K, Psi.shape[0]))\n",
    "    for k in range(K):\n",
    "        L = outputs[:,k].detach().numpy()\n",
    "        centroids, cluster = kmeans(L, 2)\n",
    "\n",
    "        dis1 = np.sqrt(np.sum(((L - np.array(centroids[1]))**2),axis=1))\n",
    "        dis2 = np.sqrt(np.sum(((L - np.array(centroids[0]))**2),axis=1))\n",
    "\n",
    "        p[k] = (np.exp(-dis2)/(np.exp(-dis1)+(np.exp(-dis2))))\n",
    "        \n",
    "    pp = np.sum(p,axis=0)/K\n",
    "    tmp_len = length[i]\n",
    "    p_T = (pp - pp[tmp_len])/(1 - pp[tmp_len])\n",
    "    pred_RUL[i] = np.where(p_T > 0.5)[0][0] - tmp_len"
   ]
  },
  {
   "cell_type": "code",
   "execution_count": 34,
   "id": "c19bc488",
   "metadata": {},
   "outputs": [
    {
     "data": {
      "text/plain": [
       "0.06636913079254941"
      ]
     },
     "execution_count": 34,
     "metadata": {},
     "output_type": "execute_result"
    }
   ],
   "source": [
    "df_RUL = pd.read_csv('RUL_FD001.txt',names=['true_RUL'])\n",
    "df_RUL['pred_RUL'] = pred_RUL\n",
    "df_RUL['lifetime'] = df_RUL['true_RUL'] + length\n",
    "df_RUL['error'] = np.abs(df_RUL['true_RUL']-df_RUL['pred_RUL'])/df_RUL['lifetime']\n",
    "df_RUL['error'].mean()"
   ]
  },
  {
   "cell_type": "code",
   "execution_count": 22,
   "id": "2854d332",
   "metadata": {},
   "outputs": [],
   "source": [
    "def RMSE(true_RUL, pred_RUL):\n",
    "    d = true_RUL - pred_RUL\n",
    "    return np.sqrt(np.power(d,2).mean())"
   ]
  },
  {
   "cell_type": "code",
   "execution_count": 23,
   "id": "9f85b6d3",
   "metadata": {},
   "outputs": [
    {
     "data": {
      "text/plain": [
       "29.488133206427293"
      ]
     },
     "execution_count": 23,
     "metadata": {},
     "output_type": "execute_result"
    }
   ],
   "source": [
    "RMSE(df_RUL['true_RUL'], df_RUL['pred_RUL'])"
   ]
  },
  {
   "cell_type": "code",
   "execution_count": 24,
   "id": "3487a945",
   "metadata": {},
   "outputs": [
    {
     "data": {
      "text/html": [
       "<div>\n",
       "<style scoped>\n",
       "    .dataframe tbody tr th:only-of-type {\n",
       "        vertical-align: middle;\n",
       "    }\n",
       "\n",
       "    .dataframe tbody tr th {\n",
       "        vertical-align: top;\n",
       "    }\n",
       "\n",
       "    .dataframe thead th {\n",
       "        text-align: right;\n",
       "    }\n",
       "</style>\n",
       "<table border=\"1\" class=\"dataframe\">\n",
       "  <thead>\n",
       "    <tr style=\"text-align: right;\">\n",
       "      <th></th>\n",
       "      <th>Unit</th>\n",
       "      <th>lifetime</th>\n",
       "      <th>true_RUL</th>\n",
       "      <th>pred_RUL</th>\n",
       "      <th>error</th>\n",
       "    </tr>\n",
       "  </thead>\n",
       "  <tbody>\n",
       "    <tr>\n",
       "      <th>0</th>\n",
       "      <td>1</td>\n",
       "      <td>143</td>\n",
       "      <td>112</td>\n",
       "      <td>140.0</td>\n",
       "      <td>0.195804</td>\n",
       "    </tr>\n",
       "    <tr>\n",
       "      <th>1</th>\n",
       "      <td>2</td>\n",
       "      <td>147</td>\n",
       "      <td>98</td>\n",
       "      <td>116.0</td>\n",
       "      <td>0.122449</td>\n",
       "    </tr>\n",
       "    <tr>\n",
       "      <th>2</th>\n",
       "      <td>3</td>\n",
       "      <td>195</td>\n",
       "      <td>69</td>\n",
       "      <td>49.0</td>\n",
       "      <td>0.102564</td>\n",
       "    </tr>\n",
       "    <tr>\n",
       "      <th>3</th>\n",
       "      <td>4</td>\n",
       "      <td>188</td>\n",
       "      <td>82</td>\n",
       "      <td>63.0</td>\n",
       "      <td>0.101064</td>\n",
       "    </tr>\n",
       "    <tr>\n",
       "      <th>4</th>\n",
       "      <td>5</td>\n",
       "      <td>189</td>\n",
       "      <td>91</td>\n",
       "      <td>75.0</td>\n",
       "      <td>0.084656</td>\n",
       "    </tr>\n",
       "  </tbody>\n",
       "</table>\n",
       "</div>"
      ],
      "text/plain": [
       "   Unit  lifetime  true_RUL  pred_RUL     error\n",
       "0     1       143       112     140.0  0.195804\n",
       "1     2       147        98     116.0  0.122449\n",
       "2     3       195        69      49.0  0.102564\n",
       "3     4       188        82      63.0  0.101064\n",
       "4     5       189        91      75.0  0.084656"
      ]
     },
     "execution_count": 24,
     "metadata": {},
     "output_type": "execute_result"
    }
   ],
   "source": [
    "df_RUL['Unit'] = 1 + np.arange(num_test)\n",
    "order = ['Unit','lifetime','true_RUL','pred_RUL','error']\n",
    "df_RUL = df_RUL[order]\n",
    "df_RUL.head()"
   ]
  },
  {
   "cell_type": "code",
   "execution_count": 52,
   "id": "02c42a3b",
   "metadata": {},
   "outputs": [],
   "source": [
    "df_RUL.to_excel('Result20.xlsx')"
   ]
  },
  {
   "cell_type": "code",
   "execution_count": 14,
   "id": "55281a6e",
   "metadata": {},
   "outputs": [],
   "source": [
    "# 计算欧拉距离\n",
    "def calcDis(dataSet, centroids, k):\n",
    "    clalist=[]\n",
    "    for data in dataSet:\n",
    "        diff = np.tile(data, (k, 1)) - centroids  #相减   (np.tile(a,(2,1))就是把a先沿x轴复制1倍，即没有复制，仍然是 [0,1,2]。 再把结果沿y方向复制2倍得到array([[0,1,2],[0,1,2]]))\n",
    "        squaredDiff = diff ** 2     #平方\n",
    "        squaredDist = np.sum(squaredDiff, axis=1)   #和  (axis=1表示行)\n",
    "        distance = squaredDist ** 0.5  #开根号\n",
    "        clalist.append(distance) \n",
    "    clalist = np.array(clalist)  #返回一个每个点到质点的距离len(dateSet)*k的数组\n",
    "    return clalist\n",
    "\n",
    "# 计算质心\n",
    "def classify(dataSet, centroids, k):\n",
    "    # 计算样本到质心的距离\n",
    "    clalist = calcDis(dataSet, centroids, k)\n",
    "    # 分组并计算新的质心\n",
    "    minDistIndices = np.argmin(clalist, axis=1)    #axis=1 表示求出每行的最小值的下标\n",
    "    newCentroids = pd.DataFrame(dataSet).groupby(minDistIndices).mean() #DataFramte(dataSet)对DataSet分组，groupby(min)按照min进行统计分类，mean()对分类结果求均值\n",
    "    newCentroids = newCentroids.values\n",
    " \n",
    "    # 计算变化量\n",
    "    changed = newCentroids - centroids\n",
    " \n",
    "    return changed, newCentroids\n",
    "\n",
    "# 使用k-means分类\n",
    "def kmeans(dataSet, k):\n",
    "    # 随机取质心\n",
    "    centroids = [dataSet[0],dataSet[-1]]\n",
    "    \n",
    "    # 更新质心 直到变化量全为0\n",
    "    changed, newCentroids = classify(dataSet, centroids, k)\n",
    "    while np.any(changed != 0):\n",
    "        changed, newCentroids = classify(dataSet, newCentroids, k)\n",
    " \n",
    "    centroids = sorted(newCentroids.tolist())   #tolist()将矩阵转换成列表 sorted()排序\n",
    " \n",
    "    # 根据质心计算每个集群\n",
    "    cluster = []\n",
    "    clalist = calcDis(dataSet, centroids, k) #调用欧拉距离\n",
    "    minDistIndices = np.argmin(clalist, axis=1)  \n",
    "    for i in range(k):\n",
    "        cluster.append([])\n",
    "    for i, j in enumerate(minDistIndices):   #enymerate()可同时遍历索引和遍历元素\n",
    "        cluster[j].append(dataSet[i])\n",
    "        \n",
    "    return centroids, cluster"
   ]
  },
  {
   "cell_type": "code",
   "execution_count": 39,
   "id": "3a6b6639",
   "metadata": {},
   "outputs": [
    {
     "data": {
      "image/png": "[encoded data removed]",
      "text/plain": [
       "<Figure size 864x144 with 3 Axes>"
      ]
     },
     "metadata": {
      "needs_background": "light"
     },
     "output_type": "display_data"
    }
   ],
   "source": [
    "\"\"\"测试数据嵌入空间中特征分布\"\"\"\n",
    "fig = plt.figure(figsize=(12,2))\n",
    "for i in range(3):\n",
    "    plt.subplot(1, 3, 1+i)\n",
    "    plt.plot(outputs[:,0,i].detach().numpy(), color='#FF8D57', linewidth=1)\n",
    "    plt.plot(centroids[0][i],'s')\n",
    "    plt.plot(centroids[1][i],'^')"
   ]
  },
  {
   "cell_type": "code",
   "execution_count": 48,
   "id": "0d429e53",
   "metadata": {},
   "outputs": [
    {
     "data": {
      "image/png": "[encoded data removed]",
      "text/plain": [
       "<Figure size 432x288 with 1 Axes>"
      ]
     },
     "metadata": {
      "needs_background": "light"
     },
     "output_type": "display_data"
    }
   ],
   "source": [
    "for k in range(10):\n",
    "    tmp_data = outputs[:,k].detach().numpy()\n",
    "    centroids, cluster = kmeans(tmp_data, 2)\n",
    "    plt.plot(tmp_data[:,0],tmp_data[:,1],'.', color='#FF8D57', markersize=0.5)\n",
    "    plt.plot(centroids[0][0],centroids[0][1],'rs')\n",
    "    plt.plot(centroids[1][0],centroids[1][1],'b^')\n",
    "    plt.plot()"
   ]
  }
 ],
 "metadata": {
  "kernelspec": {
   "display_name": "Python 3 (ipykernel)",
   "language": "python",
   "name": "python3"
  },
  "language_info": {
   "codemirror_mode": {
    "name": "ipython",
    "version": 3
   },
   "file_extension": ".py",
   "mimetype": "text/x-python",
   "name": "python",
   "nbconvert_exporter": "python",
   "pygments_lexer": "ipython3",
   "version": "3.9.12"
  }
 },
 "nbformat": 4,
 "nbformat_minor": 5
}
